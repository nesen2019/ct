{
 "cells": [
  {
   "attachments": {},
   "cell_type": "markdown",
   "metadata": {},
   "source": [
    "---\n",
    "author: Bangguo Chen\n",
    "title: a\n",
    "description: aa\n",
    "slug: a\n",
    "date: 2022-01-15\n",
    "categories:\n",
    "    - a\n",
    "tags: \n",
    "    - docker\n",
    "---"
   ]
  },
  {
   "attachments": {},
   "cell_type": "markdown",
   "metadata": {},
   "source": [
    "- [H1](#h1)\n",
    "  - [H2](#h2)\n",
    "    - [H3](#h3)\n",
    "      - [H4](#h4)\n"
   ]
  },
  {
   "cell_type": "code",
   "execution_count": 1,
   "metadata": {},
   "outputs": [
    {
     "name": "stdout",
     "output_type": "stream",
     "text": [
      "/root/Documents/ct/tests/jupyterlab\n"
     ]
    }
   ],
   "source": [
    "!pwd"
   ]
  },
  {
   "cell_type": "code",
   "execution_count": 2,
   "metadata": {},
   "outputs": [
    {
     "name": "stdout",
     "output_type": "stream",
     "text": [
      "The Zen of Python, by Tim Peters\n",
      "\n",
      "Beautiful is better than ugly.\n",
      "Explicit is better than implicit.\n",
      "Simple is better than complex.\n",
      "Complex is better than complicated.\n",
      "Flat is better than nested.\n",
      "Sparse is better than dense.\n",
      "Readability counts.\n",
      "Special cases aren't special enough to break the rules.\n",
      "Although practicality beats purity.\n",
      "Errors should never pass silently.\n",
      "Unless explicitly silenced.\n",
      "In the face of ambiguity, refuse the temptation to guess.\n",
      "There should be one-- and preferably only one --obvious way to do it.\n",
      "Although that way may not be obvious at first unless you're Dutch.\n",
      "Now is better than never.\n",
      "Although never is often better than *right* now.\n",
      "If the implementation is hard to explain, it's a bad idea.\n",
      "If the implementation is easy to explain, it may be a good idea.\n",
      "Namespaces are one honking great idea -- let's do more of those!\n"
     ]
    }
   ],
   "source": [
    "ia"
   ]
  },
  {
   "attachments": {},
   "cell_type": "markdown",
   "metadata": {},
   "source": [
    "# H1"
   ]
  },
  {
   "attachments": {},
   "cell_type": "markdown",
   "metadata": {},
   "source": [
    "## H2"
   ]
  },
  {
   "attachments": {},
   "cell_type": "markdown",
   "metadata": {},
   "source": [
    "### H3"
   ]
  },
  {
   "attachments": {},
   "cell_type": "markdown",
   "metadata": {},
   "source": [
    "#### H4"
   ]
  },
  {
   "attachments": {},
   "cell_type": "markdown",
   "metadata": {},
   "source": [
    "- 123\n",
    "- 234\n",
    "- 345"
   ]
  },
  {
   "cell_type": "markdown",
   "metadata": {},
   "source": []
  },
  {
   "cell_type": "code",
   "execution_count": null,
   "metadata": {},
   "outputs": [],
   "source": []
  },
  {
   "cell_type": "code",
   "execution_count": 3,
   "metadata": {},
   "outputs": [],
   "source": [
    "import a"
   ]
  },
  {
   "cell_type": "code",
   "execution_count": 4,
   "metadata": {},
   "outputs": [
    {
     "name": "stdout",
     "output_type": "stream",
     "text": [
      "Print a...\n"
     ]
    }
   ],
   "source": [
    "a.printa()"
   ]
  },
  {
   "attachments": {},
   "cell_type": "markdown",
   "metadata": {},
   "source": [
    "## panda\n",
    "\n",
    "![panda](https://alifei03.cfp.cn/creative/vcg/800/version23/VCG21gic15754169.jpg)"
   ]
  },
  {
   "cell_type": "code",
   "execution_count": null,
   "metadata": {},
   "outputs": [],
   "source": [
    "aa"
   ]
  },
  {
   "attachments": {},
   "cell_type": "markdown",
   "metadata": {},
   "source": [
    "## 生成目录"
   ]
  },
  {
   "cell_type": "code",
   "execution_count": 53,
   "metadata": {},
   "outputs": [
    {
     "data": {
      "text/plain": [
       "{'Basics': [{'理论工程基础': [{'线性代数': None},\n",
       "    {'微积分': None},\n",
       "    {'数学优化': None},\n",
       "    {'概率论': None},\n",
       "    {'信息论': None},\n",
       "    {'控制论': None},\n",
       "    {'系统论': None}]},\n",
       "  {'Liunx基础': None},\n",
       "  {'算法与数据结构': None},\n",
       "  {'计算机科学与应用': [{'数据库': None},\n",
       "    {'编译原理': None},\n",
       "    {'计算机组成原理-体系结构': None},\n",
       "    {'操作系统': None},\n",
       "    {'计算机网络': None},\n",
       "    {'分布式系统': None},\n",
       "    {'软件工程-设计模式': None}]},\n",
       "  {'编程语言': [{'Bash': None},\n",
       "    {'Docker-CICD': None},\n",
       "    {'Cpp': None},\n",
       "    {'Python': None},\n",
       "    {'CMake': None},\n",
       "    {'Make': None}]},\n",
       "  {'编程开发套件': [{'CV': [{'NumPy': None},\n",
       "      {'pandas': None},\n",
       "      {'Matplotlib': None},\n",
       "      {'scikit-learn': None},\n",
       "      {'SciPy': None},\n",
       "      {'OpenCV': None},\n",
       "      {'FFmpeg': None},\n",
       "      {'PyTorch': None},\n",
       "      {'TensorFlow': None}]},\n",
       "    {'HPC': [{'OpenCL': None}, {'OpenGL': None}, {'CUDA': None}]},\n",
       "    {'CPP': [{'pkg-config': None}]},\n",
       "    {'推理框架': [{'RKNN': None},\n",
       "      {'TensorRT': None},\n",
       "      {'Hisilicon': None},\n",
       "      {'onnxruntime': None},\n",
       "      {'OpenVIVO': None},\n",
       "      {'ncnn': None},\n",
       "      {'mnn': None}]}]},\n",
       "  {'数据挖掘': None},\n",
       "  {'机器学习': None},\n",
       "  {'模式识别': None},\n",
       "  {'深度学习': None},\n",
       "  {'强化学习': None}],\n",
       " 'Extensions': None,\n",
       " 'Associations': [{'源码分析': [{'sca-OpenCV': None},\n",
       "    {'sca-MMCV': None},\n",
       "    {'sca-MMDetection': None},\n",
       "    {'sca-PyTorch': None}]}],\n",
       " 'Projects': [{'Others': [{'字体数字分类': None},\n",
       "    {'车牌识别': None},\n",
       "    {'车道线检测': None},\n",
       "    {'二维码识别': None},\n",
       "    {'显著性检测': None},\n",
       "    {'logo检测': None},\n",
       "    {'价签识别': None},\n",
       "    {'Ai画画': None},\n",
       "    {'语音合成': None},\n",
       "    {'语音定制': None},\n",
       "    {'人脸表情合成': None}]},\n",
       "  {'文字识别': None},\n",
       "  {'图像质量评价': None},\n",
       "  {'缺陷检测': None},\n",
       "  {'商品识别': [{'商品分类': None}, {'商品检测': None}, {'商品对比': None}]},\n",
       "  {'人脸识别系统': [{'人脸识别': None}, {'人脸生成': None}, {'人脸美化': None}]}],\n",
       " 'Others': [{'常用命令': None}, {'常用链接': None}]}"
      ]
     },
     "execution_count": 53,
     "metadata": {},
     "output_type": "execute_result"
    }
   ],
   "source": [
    "\"\"\" \n",
    "Jupyter Notebook \n",
    "Jupyterlab\n",
    "\n",
    "\"\"\" \n",
    "\n",
    "notes_tree = \"\"\"\n",
    "Basics:\n",
    "    - 理论工程基础:\n",
    "        - 线性代数:\n",
    "        - 微积分:\n",
    "        - 数学优化:\n",
    "        - 概率论:\n",
    "        - 信息论:\n",
    "        - 控制论:\n",
    "        - 系统论:\n",
    "    - Liunx基础: # 123\n",
    "    - 算法与数据结构:\n",
    "    - 计算机科学与应用:\n",
    "        - 数据库:\n",
    "        - 编译原理:\n",
    "        - 计算机组成原理-体系结构:\n",
    "        - 操作系统:\n",
    "        - 计算机网络:\n",
    "        - 分布式系统:\n",
    "        - 软件工程-设计模式:\n",
    "    - 编程语言:\n",
    "        - Bash:\n",
    "        - Docker-CICD:\n",
    "        - Cpp:\n",
    "        - Python:\n",
    "        - CMake:\n",
    "        - Make:\n",
    "\n",
    "    - 编程开发套件:\n",
    "        - CV:\n",
    "            - NumPy:\n",
    "            - pandas:\n",
    "            - Matplotlib:\n",
    "            - scikit-learn:\n",
    "            - SciPy:\n",
    "            - OpenCV:\n",
    "            - FFmpeg:\n",
    "            - PyTorch:\n",
    "            - TensorFlow:\n",
    "            \n",
    "        - HPC:\n",
    "            - OpenCL:\n",
    "            - OpenGL:\n",
    "            - CUDA:\n",
    "\n",
    "        - CPP:\n",
    "            - pkg-config:\n",
    "\n",
    "        - 推理框架:\n",
    "            - RKNN:\n",
    "            - TensorRT:\n",
    "            - Hisilicon:\n",
    "            - onnxruntime:\n",
    "            - OpenVIVO:\n",
    "            - ncnn:\n",
    "            - mnn:\n",
    "    - 数据挖掘:\n",
    "    - 机器学习:\n",
    "    - 模式识别:\n",
    "    - 深度学习:\n",
    "    - 强化学习:\n",
    "\n",
    "Extensions:\n",
    "\n",
    "Associations:\n",
    "    - 源码分析: # Source code analysis\n",
    "        - sca-OpenCV:\n",
    "        - sca-MMCV:\n",
    "        - sca-MMDetection:\n",
    "        - sca-PyTorch:\n",
    "\n",
    "\n",
    "Projects:\n",
    "    - Others:\n",
    "        - 字体数字分类:\n",
    "        - 车牌识别:\n",
    "        - 车道线检测:\n",
    "        - 二维码识别:\n",
    "        - 显著性检测:\n",
    "        - logo检测:\n",
    "        - 价签识别:\n",
    "        - Ai画画: # words to image\n",
    "        - 语音合成: # words to audio\n",
    "        - 语音定制: # audio to specific person's voice\n",
    "        - 人脸表情合成: # Make the generated expressions conform to normal human speech\n",
    "    - 文字识别:\n",
    "    - 图像质量评价:\n",
    "    - 缺陷检测:\n",
    "    - 商品识别:\n",
    "        - 商品分类:\n",
    "        - 商品检测:\n",
    "        - 商品对比:\n",
    "    - 人脸识别系统:\n",
    "        - 人脸识别:\n",
    "        - 人脸生成:\n",
    "        - 人脸美化:\n",
    "Others:\n",
    "    - 常用命令:\n",
    "    - 常用链接:\n",
    "\n",
    "\"\"\"\n",
    "notes_tree = yaml.load(notes_tree, Loader=yaml.Loader)\n",
    "notes_tree"
   ]
  },
  {
   "cell_type": "code",
   "execution_count": 58,
   "metadata": {},
   "outputs": [
    {
     "name": "stdout",
     "output_type": "stream",
     "text": [
      "Current dir: ./Basics/理论工程基础/线性代数\n",
      "Current dir: ./Basics/理论工程基础/微积分\n",
      "Current dir: ./Basics/理论工程基础/数学优化\n",
      "Current dir: ./Basics/理论工程基础/概率论\n",
      "Current dir: ./Basics/理论工程基础/信息论\n",
      "Current dir: ./Basics/理论工程基础/控制论\n",
      "Current dir: ./Basics/理论工程基础/系统论\n",
      "Current dir: ./Basics/Liunx基础\n",
      "Current dir: ./Basics/算法与数据结构\n",
      "Current dir: ./Basics/计算机科学与应用/数据库\n",
      "Current dir: ./Basics/计算机科学与应用/编译原理\n",
      "Current dir: ./Basics/计算机科学与应用/计算机组成原理-体系结构\n",
      "Current dir: ./Basics/计算机科学与应用/操作系统\n",
      "Current dir: ./Basics/计算机科学与应用/计算机网络\n",
      "Current dir: ./Basics/计算机科学与应用/分布式系统\n",
      "Current dir: ./Basics/计算机科学与应用/软件工程-设计模式\n",
      "Current dir: ./Basics/编程语言/Bash\n",
      "Current dir: ./Basics/编程语言/Docker-CICD\n",
      "Current dir: ./Basics/编程语言/Cpp\n",
      "Current dir: ./Basics/编程语言/Python\n",
      "Current dir: ./Basics/编程语言/CMake\n",
      "Current dir: ./Basics/编程语言/Make\n",
      "Current dir: ./Basics/编程开发套件/CV/NumPy\n",
      "Current dir: ./Basics/编程开发套件/CV/pandas\n",
      "Current dir: ./Basics/编程开发套件/CV/Matplotlib\n",
      "Current dir: ./Basics/编程开发套件/CV/scikit-learn\n",
      "Current dir: ./Basics/编程开发套件/CV/SciPy\n",
      "Current dir: ./Basics/编程开发套件/CV/OpenCV\n",
      "Current dir: ./Basics/编程开发套件/CV/FFmpeg\n",
      "Current dir: ./Basics/编程开发套件/CV/PyTorch\n",
      "Current dir: ./Basics/编程开发套件/CV/TensorFlow\n",
      "Current dir: ./Basics/编程开发套件/HPC/OpenCL\n",
      "Current dir: ./Basics/编程开发套件/HPC/OpenGL\n",
      "Current dir: ./Basics/编程开发套件/HPC/CUDA\n",
      "Current dir: ./Basics/编程开发套件/CPP/pkg-config\n",
      "Current dir: ./Basics/编程开发套件/推理框架/RKNN\n",
      "Current dir: ./Basics/编程开发套件/推理框架/TensorRT\n",
      "Current dir: ./Basics/编程开发套件/推理框架/Hisilicon\n",
      "Current dir: ./Basics/编程开发套件/推理框架/onnxruntime\n",
      "Current dir: ./Basics/编程开发套件/推理框架/OpenVIVO\n",
      "Current dir: ./Basics/编程开发套件/推理框架/ncnn\n",
      "Current dir: ./Basics/编程开发套件/推理框架/mnn\n",
      "Current dir: ./Basics/数据挖掘\n",
      "Current dir: ./Basics/机器学习\n",
      "Current dir: ./Basics/模式识别\n",
      "Current dir: ./Basics/深度学习\n",
      "Current dir: ./Basics/强化学习\n",
      "Current dir: ./Extensions\n",
      "Current dir: ./Associations/源码分析/sca-OpenCV\n",
      "Current dir: ./Associations/源码分析/sca-MMCV\n",
      "Current dir: ./Associations/源码分析/sca-MMDetection\n",
      "Current dir: ./Associations/源码分析/sca-PyTorch\n",
      "Current dir: ./Projects/Others/字体数字分类\n",
      "Current dir: ./Projects/Others/车牌识别\n",
      "Current dir: ./Projects/Others/车道线检测\n",
      "Current dir: ./Projects/Others/二维码识别\n",
      "Current dir: ./Projects/Others/显著性检测\n",
      "Current dir: ./Projects/Others/logo检测\n",
      "Current dir: ./Projects/Others/价签识别\n",
      "Current dir: ./Projects/Others/Ai画画\n",
      "Current dir: ./Projects/Others/语音合成\n",
      "Current dir: ./Projects/Others/语音定制\n",
      "Current dir: ./Projects/Others/人脸表情合成\n",
      "Current dir: ./Projects/文字识别\n",
      "Current dir: ./Projects/图像质量评价\n",
      "Current dir: ./Projects/缺陷检测\n",
      "Current dir: ./Projects/商品识别/商品分类\n",
      "Current dir: ./Projects/商品识别/商品检测\n",
      "Current dir: ./Projects/商品识别/商品对比\n",
      "Current dir: ./Projects/人脸识别系统/人脸识别\n",
      "Current dir: ./Projects/人脸识别系统/人脸生成\n",
      "Current dir: ./Projects/人脸识别系统/人脸美化\n",
      "Current dir: ./Others/常用命令\n",
      "Current dir: ./Others/常用链接\n"
     ]
    }
   ],
   "source": [
    "# notes_tree\n",
    "import os \n",
    "def get_dirs(trees, dirname):\n",
    "    for _dir, val in trees.items():\n",
    "        if val is None:\n",
    "            cur_dir = os.path.join(dirname, _dir)\n",
    "            print(f\"Current dir: {cur_dir}\")\n",
    "            continue \n",
    "        for v in val:\n",
    "            get_dirs(v, os.path.join(dirname, _dir))\n",
    "\n",
    "get_dirs(notes_tree, \".\")"
   ]
  },
  {
   "cell_type": "code",
   "execution_count": null,
   "metadata": {},
   "outputs": [],
   "source": []
  },
  {
   "cell_type": "code",
   "execution_count": null,
   "metadata": {},
   "outputs": [],
   "source": []
  },
  {
   "attachments": {},
   "cell_type": "markdown",
   "metadata": {},
   "source": [
    "## add ${}file"
   ]
  },
  {
   "cell_type": "code",
   "execution_count": 64,
   "metadata": {},
   "outputs": [
    {
     "name": "stdout",
     "output_type": "stream",
     "text": [
      "Current dir: /root/Documents/ct/Basics/理论工程基础/线性代数\n",
      "file: /root/Documents/ct/Basics/理论工程基础/线性代数/线性代数.md, title: 线性代数, \n",
      "Current dir: /root/Documents/ct/Basics/理论工程基础/微积分\n",
      "file: /root/Documents/ct/Basics/理论工程基础/微积分/微积分.md, title: 微积分, \n",
      "Current dir: /root/Documents/ct/Basics/理论工程基础/数学优化\n",
      "file: /root/Documents/ct/Basics/理论工程基础/数学优化/数学优化.md, title: 数学优化, \n",
      "Current dir: /root/Documents/ct/Basics/理论工程基础/概率论\n",
      "file: /root/Documents/ct/Basics/理论工程基础/概率论/概率论.md, title: 概率论, \n",
      "Current dir: /root/Documents/ct/Basics/理论工程基础/信息论\n",
      "file: /root/Documents/ct/Basics/理论工程基础/信息论/信息论.md, title: 信息论, \n",
      "Current dir: /root/Documents/ct/Basics/理论工程基础/控制论\n",
      "file: /root/Documents/ct/Basics/理论工程基础/控制论/控制论.md, title: 控制论, \n",
      "Current dir: /root/Documents/ct/Basics/理论工程基础/系统论\n",
      "file: /root/Documents/ct/Basics/理论工程基础/系统论/系统论.md, title: 系统论, \n",
      "Current dir: /root/Documents/ct/Basics/Liunx基础\n",
      "file: /root/Documents/ct/Basics/Liunx基础/Liunx基础.md, title: Liunx基础, \n",
      "Current dir: /root/Documents/ct/Basics/算法与数据结构\n",
      "file: /root/Documents/ct/Basics/算法与数据结构/算法与数据结构.md, title: 算法与数据结构, \n",
      "Current dir: /root/Documents/ct/Basics/计算机科学与应用/数据库\n",
      "file: /root/Documents/ct/Basics/计算机科学与应用/数据库/数据库.md, title: 数据库, \n",
      "Current dir: /root/Documents/ct/Basics/计算机科学与应用/编译原理\n",
      "file: /root/Documents/ct/Basics/计算机科学与应用/编译原理/编译原理.md, title: 编译原理, \n",
      "Current dir: /root/Documents/ct/Basics/计算机科学与应用/计算机组成原理-体系结构\n",
      "file: /root/Documents/ct/Basics/计算机科学与应用/计算机组成原理-体系结构/计算机组成原理-体系结构.md, title: 计算机组成原理-体系结构, \n",
      "Current dir: /root/Documents/ct/Basics/计算机科学与应用/操作系统\n",
      "file: /root/Documents/ct/Basics/计算机科学与应用/操作系统/操作系统.md, title: 操作系统, \n",
      "Current dir: /root/Documents/ct/Basics/计算机科学与应用/计算机网络\n",
      "file: /root/Documents/ct/Basics/计算机科学与应用/计算机网络/计算机网络.md, title: 计算机网络, \n",
      "Current dir: /root/Documents/ct/Basics/计算机科学与应用/分布式系统\n",
      "file: /root/Documents/ct/Basics/计算机科学与应用/分布式系统/分布式系统.md, title: 分布式系统, \n",
      "Current dir: /root/Documents/ct/Basics/计算机科学与应用/软件工程-设计模式\n",
      "file: /root/Documents/ct/Basics/计算机科学与应用/软件工程-设计模式/软件工程-设计模式.md, title: 软件工程-设计模式, \n",
      "Current dir: /root/Documents/ct/Basics/编程语言/Bash\n",
      "file: /root/Documents/ct/Basics/编程语言/Bash/Bash.md, title: Bash, \n",
      "Current dir: /root/Documents/ct/Basics/编程语言/Docker-CICD\n",
      "file: /root/Documents/ct/Basics/编程语言/Docker-CICD/Docker-CICD.md, title: Docker-CICD, \n",
      "Current dir: /root/Documents/ct/Basics/编程语言/Cpp\n",
      "file: /root/Documents/ct/Basics/编程语言/Cpp/Cpp.md, title: Cpp, \n",
      "Current dir: /root/Documents/ct/Basics/编程语言/Python\n",
      "file: /root/Documents/ct/Basics/编程语言/Python/Python.md, title: Python, \n",
      "Current dir: /root/Documents/ct/Basics/编程语言/CMake\n",
      "file: /root/Documents/ct/Basics/编程语言/CMake/CMake.md, title: CMake, \n",
      "Current dir: /root/Documents/ct/Basics/编程语言/Make\n",
      "file: /root/Documents/ct/Basics/编程语言/Make/Make.md, title: Make, \n",
      "Current dir: /root/Documents/ct/Basics/编程开发套件/CV/NumPy\n",
      "file: /root/Documents/ct/Basics/编程开发套件/CV/NumPy/NumPy.md, title: NumPy, \n",
      "Current dir: /root/Documents/ct/Basics/编程开发套件/CV/pandas\n",
      "file: /root/Documents/ct/Basics/编程开发套件/CV/pandas/pandas.md, title: pandas, \n",
      "Current dir: /root/Documents/ct/Basics/编程开发套件/CV/Matplotlib\n",
      "file: /root/Documents/ct/Basics/编程开发套件/CV/Matplotlib/Matplotlib.md, title: Matplotlib, \n",
      "Current dir: /root/Documents/ct/Basics/编程开发套件/CV/scikit-learn\n",
      "file: /root/Documents/ct/Basics/编程开发套件/CV/scikit-learn/scikit-learn.md, title: scikit-learn, \n",
      "Current dir: /root/Documents/ct/Basics/编程开发套件/CV/SciPy\n",
      "file: /root/Documents/ct/Basics/编程开发套件/CV/SciPy/SciPy.md, title: SciPy, \n",
      "Current dir: /root/Documents/ct/Basics/编程开发套件/CV/OpenCV\n",
      "file: /root/Documents/ct/Basics/编程开发套件/CV/OpenCV/OpenCV.md, title: OpenCV, \n",
      "Current dir: /root/Documents/ct/Basics/编程开发套件/CV/FFmpeg\n",
      "file: /root/Documents/ct/Basics/编程开发套件/CV/FFmpeg/FFmpeg.md, title: FFmpeg, \n",
      "Current dir: /root/Documents/ct/Basics/编程开发套件/CV/PyTorch\n",
      "file: /root/Documents/ct/Basics/编程开发套件/CV/PyTorch/PyTorch.md, title: PyTorch, \n",
      "Current dir: /root/Documents/ct/Basics/编程开发套件/CV/TensorFlow\n",
      "file: /root/Documents/ct/Basics/编程开发套件/CV/TensorFlow/TensorFlow.md, title: TensorFlow, \n",
      "Current dir: /root/Documents/ct/Basics/编程开发套件/HPC/OpenCL\n",
      "file: /root/Documents/ct/Basics/编程开发套件/HPC/OpenCL/OpenCL.md, title: OpenCL, \n",
      "Current dir: /root/Documents/ct/Basics/编程开发套件/HPC/OpenGL\n",
      "file: /root/Documents/ct/Basics/编程开发套件/HPC/OpenGL/OpenGL.md, title: OpenGL, \n",
      "Current dir: /root/Documents/ct/Basics/编程开发套件/HPC/CUDA\n",
      "file: /root/Documents/ct/Basics/编程开发套件/HPC/CUDA/CUDA.md, title: CUDA, \n",
      "Current dir: /root/Documents/ct/Basics/编程开发套件/CPP/pkg-config\n",
      "file: /root/Documents/ct/Basics/编程开发套件/CPP/pkg-config/pkg-config.md, title: pkg-config, \n",
      "Current dir: /root/Documents/ct/Basics/编程开发套件/推理框架/RKNN\n",
      "file: /root/Documents/ct/Basics/编程开发套件/推理框架/RKNN/RKNN.md, title: RKNN, \n",
      "Current dir: /root/Documents/ct/Basics/编程开发套件/推理框架/TensorRT\n",
      "file: /root/Documents/ct/Basics/编程开发套件/推理框架/TensorRT/TensorRT.md, title: TensorRT, \n",
      "Current dir: /root/Documents/ct/Basics/编程开发套件/推理框架/Hisilicon\n",
      "file: /root/Documents/ct/Basics/编程开发套件/推理框架/Hisilicon/Hisilicon.md, title: Hisilicon, \n",
      "Current dir: /root/Documents/ct/Basics/编程开发套件/推理框架/onnxruntime\n",
      "file: /root/Documents/ct/Basics/编程开发套件/推理框架/onnxruntime/onnxruntime.md, title: onnxruntime, \n",
      "Current dir: /root/Documents/ct/Basics/编程开发套件/推理框架/OpenVIVO\n",
      "file: /root/Documents/ct/Basics/编程开发套件/推理框架/OpenVIVO/OpenVIVO.md, title: OpenVIVO, \n",
      "Current dir: /root/Documents/ct/Basics/编程开发套件/推理框架/ncnn\n",
      "file: /root/Documents/ct/Basics/编程开发套件/推理框架/ncnn/ncnn.md, title: ncnn, \n",
      "Current dir: /root/Documents/ct/Basics/编程开发套件/推理框架/mnn\n",
      "file: /root/Documents/ct/Basics/编程开发套件/推理框架/mnn/mnn.md, title: mnn, \n",
      "Current dir: /root/Documents/ct/Basics/数据挖掘\n",
      "file: /root/Documents/ct/Basics/数据挖掘/数据挖掘.md, title: 数据挖掘, \n",
      "Current dir: /root/Documents/ct/Basics/机器学习\n",
      "file: /root/Documents/ct/Basics/机器学习/机器学习.md, title: 机器学习, \n",
      "Current dir: /root/Documents/ct/Basics/模式识别\n",
      "file: /root/Documents/ct/Basics/模式识别/模式识别.md, title: 模式识别, \n",
      "Current dir: /root/Documents/ct/Basics/深度学习\n",
      "file: /root/Documents/ct/Basics/深度学习/深度学习.md, title: 深度学习, \n",
      "Current dir: /root/Documents/ct/Basics/强化学习\n",
      "file: /root/Documents/ct/Basics/强化学习/强化学习.md, title: 强化学习, \n",
      "Current dir: /root/Documents/ct/Extensions\n",
      "file: /root/Documents/ct/Extensions/Extensions.md, title: Extensions, \n",
      "Current dir: /root/Documents/ct/Associations/源码分析/sca-OpenCV\n",
      "file: /root/Documents/ct/Associations/源码分析/sca-OpenCV/sca-OpenCV.md, title: sca-OpenCV, \n",
      "Current dir: /root/Documents/ct/Associations/源码分析/sca-MMCV\n",
      "file: /root/Documents/ct/Associations/源码分析/sca-MMCV/sca-MMCV.md, title: sca-MMCV, \n",
      "Current dir: /root/Documents/ct/Associations/源码分析/sca-MMDetection\n",
      "file: /root/Documents/ct/Associations/源码分析/sca-MMDetection/sca-MMDetection.md, title: sca-MMDetection, \n",
      "Current dir: /root/Documents/ct/Associations/源码分析/sca-PyTorch\n",
      "file: /root/Documents/ct/Associations/源码分析/sca-PyTorch/sca-PyTorch.md, title: sca-PyTorch, \n",
      "Current dir: /root/Documents/ct/Projects/Others/字体数字分类\n",
      "file: /root/Documents/ct/Projects/Others/字体数字分类/字体数字分类.md, title: 字体数字分类, \n",
      "Current dir: /root/Documents/ct/Projects/Others/车牌识别\n",
      "file: /root/Documents/ct/Projects/Others/车牌识别/车牌识别.md, title: 车牌识别, \n",
      "Current dir: /root/Documents/ct/Projects/Others/车道线检测\n",
      "file: /root/Documents/ct/Projects/Others/车道线检测/车道线检测.md, title: 车道线检测, \n",
      "Current dir: /root/Documents/ct/Projects/Others/二维码识别\n",
      "file: /root/Documents/ct/Projects/Others/二维码识别/二维码识别.md, title: 二维码识别, \n",
      "Current dir: /root/Documents/ct/Projects/Others/显著性检测\n",
      "file: /root/Documents/ct/Projects/Others/显著性检测/显著性检测.md, title: 显著性检测, \n",
      "Current dir: /root/Documents/ct/Projects/Others/logo检测\n",
      "file: /root/Documents/ct/Projects/Others/logo检测/logo检测.md, title: logo检测, \n",
      "Current dir: /root/Documents/ct/Projects/Others/价签识别\n",
      "file: /root/Documents/ct/Projects/Others/价签识别/价签识别.md, title: 价签识别, \n",
      "Current dir: /root/Documents/ct/Projects/Others/Ai画画\n",
      "file: /root/Documents/ct/Projects/Others/Ai画画/Ai画画.md, title: Ai画画, \n",
      "Current dir: /root/Documents/ct/Projects/Others/语音合成\n",
      "file: /root/Documents/ct/Projects/Others/语音合成/语音合成.md, title: 语音合成, \n",
      "Current dir: /root/Documents/ct/Projects/Others/语音定制\n",
      "file: /root/Documents/ct/Projects/Others/语音定制/语音定制.md, title: 语音定制, \n",
      "Current dir: /root/Documents/ct/Projects/Others/人脸表情合成\n",
      "file: /root/Documents/ct/Projects/Others/人脸表情合成/人脸表情合成.md, title: 人脸表情合成, \n",
      "Current dir: /root/Documents/ct/Projects/文字识别\n",
      "file: /root/Documents/ct/Projects/文字识别/文字识别.md, title: 文字识别, \n",
      "Current dir: /root/Documents/ct/Projects/图像质量评价\n",
      "file: /root/Documents/ct/Projects/图像质量评价/图像质量评价.md, title: 图像质量评价, \n",
      "Current dir: /root/Documents/ct/Projects/缺陷检测\n",
      "file: /root/Documents/ct/Projects/缺陷检测/缺陷检测.md, title: 缺陷检测, \n",
      "Current dir: /root/Documents/ct/Projects/商品识别/商品分类\n",
      "file: /root/Documents/ct/Projects/商品识别/商品分类/商品分类.md, title: 商品分类, \n",
      "Current dir: /root/Documents/ct/Projects/商品识别/商品检测\n",
      "file: /root/Documents/ct/Projects/商品识别/商品检测/商品检测.md, title: 商品检测, \n",
      "Current dir: /root/Documents/ct/Projects/商品识别/商品对比\n",
      "file: /root/Documents/ct/Projects/商品识别/商品对比/商品对比.md, title: 商品对比, \n",
      "Current dir: /root/Documents/ct/Projects/人脸识别系统/人脸识别\n",
      "file: /root/Documents/ct/Projects/人脸识别系统/人脸识别/人脸识别.md, title: 人脸识别, \n",
      "Current dir: /root/Documents/ct/Projects/人脸识别系统/人脸生成\n",
      "file: /root/Documents/ct/Projects/人脸识别系统/人脸生成/人脸生成.md, title: 人脸生成, \n",
      "Current dir: /root/Documents/ct/Projects/人脸识别系统/人脸美化\n",
      "file: /root/Documents/ct/Projects/人脸识别系统/人脸美化/人脸美化.md, title: 人脸美化, \n",
      "Current dir: /root/Documents/ct/Others/常用命令\n",
      "file: /root/Documents/ct/Others/常用命令/常用命令.md, title: 常用命令, \n",
      "Current dir: /root/Documents/ct/Others/常用链接\n",
      "file: /root/Documents/ct/Others/常用链接/常用链接.md, title: 常用链接, \n"
     ]
    }
   ],
   "source": [
    "# notes_tree\n",
    "import os \n",
    "import glob \n",
    "import os \n",
    "import shutil\n",
    "fstr = \"\"\"\\\n",
    "---\n",
    "author: Bangguo Chen\n",
    "title: {title}\n",
    "description: {title}\n",
    "slug: slug-{title}\n",
    "date: 2022-01-15\n",
    "categories:\n",
    "tags: \n",
    "---\n",
    "\"\"\"\n",
    "\n",
    "def get_dirs(trees, dirname):\n",
    "    for _dir, val in trees.items():\n",
    "        if val is None:\n",
    "            title = _dir \n",
    "            cur_dir = os.path.join(dirname, _dir)\n",
    "            # mkdir\n",
    "            os.makedirs(cur_dir, exist_ok=True)  \n",
    "\n",
    "            print(f\"Current dir: {cur_dir}\")\n",
    "            file = os.path.join(cur_dir, f\"{title}.md\")\n",
    "\n",
    "            \n",
    "            print(f\"file: {file}, title: {title}, \")\n",
    "            with open(file, \"w\") as f:\n",
    "                f.write(fstr.format(title=title))\n",
    "                f.write(\"\\n\")\n",
    "\n",
    "            continue \n",
    "        for v in val:\n",
    "            get_dirs(v, os.path.join(dirname, _dir))\n",
    "\n",
    "get_dirs(notes_tree, \"/root/Documents/ct\")"
   ]
  },
  {
   "cell_type": "code",
   "execution_count": 14,
   "metadata": {
    "tags": [
     "jupyter title"
    ]
   },
   "outputs": [
    {
     "name": "stdout",
     "output_type": "stream",
     "text": [
      "/root/Documents/ct/Associates\n"
     ]
    }
   ],
   "source": [
    "ct_dir = \"/root/Documents/ct\"\n",
    "_dirs = glob.glob(os.path.join(ct_dir, \"**/*\"), recursive=True)\n",
    "\n",
    "fstr = \"\"\"\\\n",
    "---\n",
    "author: Bangguo Chen\n",
    "title: {title}\n",
    "description: {title}\n",
    "slug: slug-{title}\n",
    "date: 2022-01-15\n",
    "categories:\n",
    "tags: \n",
    "---\n",
    "\"\"\"\n",
    "\n",
    "\n",
    "for _dir in _dirs:\n",
    "    if os.path.isdir(_dir):\n",
    "        title = os.path.basename(_dir)\n",
    "        print(_dir)\n",
    "        file = os.path.join(_dir, f\"{title}.md\")\n",
    "        with open(file, \"w\") as f:\n",
    "            f.write(fstr.format(title=title))\n",
    "            f.write(\"\\n\")\n",
    "\n"
   ]
  },
  {
   "cell_type": "code",
   "execution_count": null,
   "metadata": {},
   "outputs": [],
   "source": []
  },
  {
   "cell_type": "code",
   "execution_count": null,
   "metadata": {},
   "outputs": [],
   "source": []
  },
  {
   "attachments": {},
   "cell_type": "markdown",
   "metadata": {},
   "source": [
    "## Test"
   ]
  },
  {
   "cell_type": "code",
   "execution_count": null,
   "metadata": {},
   "outputs": [],
   "source": []
  },
  {
   "cell_type": "code",
   "execution_count": 2,
   "metadata": {},
   "outputs": [],
   "source": [
    "import yaml"
   ]
  },
  {
   "cell_type": "code",
   "execution_count": 12,
   "metadata": {},
   "outputs": [
    {
     "data": {
      "text/plain": [
       "{'a': 1, 'b': [1]}"
      ]
     },
     "execution_count": 12,
     "metadata": {},
     "output_type": "execute_result"
    }
   ],
   "source": [
    "a = \"\"\"\n",
    "a: 1\n",
    "b: \n",
    "    - 1\n",
    "\n",
    "\"\"\"\n",
    "\n",
    "yaml.load(a, Loader=yaml.Loader)"
   ]
  }
 ],
 "metadata": {
  "kernelspec": {
   "display_name": "py39",
   "language": "python",
   "name": "python3"
  },
  "language_info": {
   "codemirror_mode": {
    "name": "ipython",
    "version": 3
   },
   "file_extension": ".py",
   "mimetype": "text/x-python",
   "name": "python",
   "nbconvert_exporter": "python",
   "pygments_lexer": "ipython3",
   "version": "3.9.15"
  },
  "orig_nbformat": 4,
  "vscode": {
   "interpreter": {
    "hash": "d4238c57844cc908b76449bc4ddf9899590ca8e7952f36c82afaad1c379a56db"
   }
  }
 },
 "nbformat": 4,
 "nbformat_minor": 2
}
