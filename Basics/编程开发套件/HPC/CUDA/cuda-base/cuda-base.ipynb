{
 "cells": [
  {
   "attachments": {},
   "cell_type": "markdown",
   "metadata": {},
   "source": [
    "# cuda-base"
   ]
  },
  {
   "attachments": {},
   "cell_type": "markdown",
   "metadata": {},
   "source": [
    "## 编译简化demo"
   ]
  },
  {
   "cell_type": "code",
   "execution_count": 20,
   "metadata": {},
   "outputs": [],
   "source": [
    "import os \n",
    "class CudaAutoBuild(object):\n",
    "    def __init__(self, root_dir = \"/tmp/cuda-base\"):\n",
    "        self.root_dir = root_dir \n",
    "        assert root_dir.startswith(\"/tmp\")\n",
    "        os.makedirs(self.root_dir, exist_ok=True)\n",
    "        os.system(f\"rm -rf {os.path.join(self.root_dir, '*')}\")\n",
    "\n",
    "\n",
    "    def __enter__(self):\n",
    "        return self\n",
    "    \n",
    "    def __exit__(self, *args, **kws):\n",
    "        pass \n",
    "    \n",
    "    def add_file(self, filename, filestr):\n",
    "        with open(os.path.join(self.root_dir, filename), \"w\") as f:\n",
    "            f.write(f\"{filestr.strip()}\\n\\n\")\n",
    "\n",
    "    def build(self, cmd=None):\n",
    "        if cmd is None:\n",
    "            cmd = \"nvcc hello.cu --generate-code arch=compute_50,code=sm_50 -o hello\"\n",
    "        os.system(f\"cd {self.root_dir} && {cmd}\")\n",
    "    \n",
    "    def exec(self, cmd=None):\n",
    "        if cmd is None:\n",
    "            cmd = \"hello\"\n",
    "        os.system(f\"cd {self.root_dir} && chmod +x {cmd} && ./{cmd}\")"
   ]
  },
  {
   "cell_type": "code",
   "execution_count": 21,
   "metadata": {},
   "outputs": [
    {
     "name": "stdout",
     "output_type": "stream",
     "text": [
      "Hello World from host!\n",
      "Hello World! from thread [0, 0] From device.\n"
     ]
    }
   ],
   "source": [
    "with CudaAutoBuild() as cab:\n",
    "    cab.add_file(\"hello.cu\", r\"\"\"\n",
    "#include <stdio.h>\n",
    "\n",
    "__global__ void print_HelloWorld(void) {\n",
    "    printf(\"Hello World! from thread [%d, %d] From device.\\n\", threadIdx.x, blockIdx.x);\n",
    "}\n",
    "\n",
    "int main() {\n",
    "    printf(\"Hello World from host!\\n\");\n",
    "    print_HelloWorld<<<1, 1>>>();\n",
    "\n",
    "    cudaDeviceSynchronize();\n",
    "    return 0;\n",
    "}\n",
    "    \"\"\")\n",
    "    cab.build()\n",
    "    cab.exec()\n",
    "\n"
   ]
  },
  {
   "attachments": {},
   "cell_type": "markdown",
   "metadata": {},
   "source": [
    "## e01-HelloWorld"
   ]
  },
  {
   "cell_type": "code",
   "execution_count": 22,
   "metadata": {},
   "outputs": [],
   "source": [
    "# create hello-world file\n",
    "custr_HelloWorld = r\"\"\"\n",
    "#include <stdio.h>\n",
    "\n",
    "__global__ void print_HelloWorld(void) {\n",
    "    printf(\"Hello World! from thread [%d, %d] From device.\\n\", threadIdx.x, blockIdx.x);\n",
    "}\n",
    "\n",
    "int main() {\n",
    "    printf(\"Hello World from host!\\n\");\n",
    "    print_HelloWorld<<<1, 1>>>();\n",
    "\n",
    "    cudaDeviceSynchronize();\n",
    "    return 0;\n",
    "}\n",
    "    \"\"\"\n",
    "\n",
    "!rm -rf build/*\n",
    "!mkdir build\n",
    "with open(\"build/hello-world.cu\", \"w\") as f:\n",
    "    f.write(custr_HelloWorld)\n"
   ]
  },
  {
   "cell_type": "code",
   "execution_count": 23,
   "metadata": {},
   "outputs": [],
   "source": [
    "# build\n",
    "!nvcc build/hello-world.cu \\\n",
    "    --generate-code arch=compute_50,code=sm_50 \\\n",
    "    -o build/hello-world\n"
   ]
  },
  {
   "cell_type": "code",
   "execution_count": 24,
   "metadata": {},
   "outputs": [
    {
     "name": "stdout",
     "output_type": "stream",
     "text": [
      "Hello World from host!\n",
      "Hello World! from thread [0, 0] From device.\n"
     ]
    }
   ],
   "source": [
    "# exec\n",
    "!chmod +x build/hello-world \n",
    "!build/hello-world"
   ]
  },
  {
   "cell_type": "code",
   "execution_count": null,
   "metadata": {},
   "outputs": [],
   "source": []
  },
  {
   "attachments": {},
   "cell_type": "markdown",
   "metadata": {},
   "source": [
    "## e02-add"
   ]
  },
  {
   "cell_type": "code",
   "execution_count": 25,
   "metadata": {},
   "outputs": [
    {
     "name": "stdout",
     "output_type": "stream",
     "text": [
      "125 + 236 = 361\n"
     ]
    }
   ],
   "source": [
    "with CudaAutoBuild() as cab:\n",
    "    cab.add_file(\"hello.cu\", r\"\"\"\n",
    "#include <stdio.h>\n",
    "\n",
    "\n",
    "// Definition of kernel functin to add two variable\n",
    "__global__ void gpu_add(int d_a, int d_b, int *d_c) {\n",
    "    *d_c = d_a + d_b;\n",
    "}\n",
    "\n",
    "// main function\n",
    "int main() {\n",
    "    // Defining host variable to store answer\n",
    "    int h_a = 125, h_b = 236;\n",
    "    int h_c;\n",
    "\n",
    "    // Defining device pointer\n",
    "    int *d_c;\n",
    "\n",
    "    // Allocating memory for device pointer\n",
    "    cudaMalloc((void**)&d_c, sizeof(int));\n",
    "\n",
    "    // Kernal call\n",
    "    gpu_add<<<1, 1>>>(h_a, h_b, d_c);\n",
    "\n",
    "    // Copy result from device memory to host memory\n",
    "    cudaMemcpy(&h_c, d_c, sizeof(int), cudaMemcpyDeviceToHost);\n",
    "\n",
    "    printf(\"%d + %d = %d\\n\", h_a, h_b, h_c);\n",
    "\n",
    "    // Free up memory\n",
    "    cudaFree(d_c);\n",
    "\n",
    "}\n",
    "    \"\"\")\n",
    "    cab.build()\n",
    "    cab.exec()"
   ]
  },
  {
   "cell_type": "code",
   "execution_count": null,
   "metadata": {},
   "outputs": [],
   "source": []
  },
  {
   "attachments": {},
   "cell_type": "markdown",
   "metadata": {},
   "source": [
    "## e02-device prop\n",
    "- refer\n",
    "  - https://docs.nvidia.com/cuda/cuda-runtime-api/structcudaDeviceProp.html#structcudaDeviceProp"
   ]
  },
  {
   "cell_type": "code",
   "execution_count": 26,
   "metadata": {},
   "outputs": [
    {
     "name": "stdout",
     "output_type": "stream",
     "text": [
      "Device 0 has compute capability 5.0. \n",
      "\t name: NVIDIA GeForce GTX 960M.\n",
      "\t maxThreadsDim: (1024, 1024, 64).\n",
      "\t maxGridSize: (2147483647, 65535, 65535).\n",
      "\t maxThreadsPerBlock: 1024.\n"
     ]
    }
   ],
   "source": [
    "with CudaAutoBuild() as cab:\n",
    "    cab.add_file(\"hello.cu\", r\"\"\"\n",
    "#include <stdio.h>\n",
    "\n",
    "// main function\n",
    "int main() {\n",
    "    \n",
    "    int deviceCount = -1;\n",
    "    cudaGetDeviceCount(&deviceCount);\n",
    "    for (int device = 0; device < deviceCount; ++device) {\n",
    "        cudaDeviceProp deviceProp;\n",
    "        cudaGetDeviceProperties(&deviceProp, device);\n",
    "        printf(\"Device %d has compute capability %d.%d. \\n\",\n",
    "            device, deviceProp.major, deviceProp.minor\n",
    "        );\n",
    "        printf(\"\\t name: %s.\\n\", deviceProp.name);\n",
    "        printf(\"\\t maxThreadsDim: (%d, %d, %d).\\n\", deviceProp.maxThreadsDim[0], deviceProp.maxThreadsDim[1], deviceProp.maxThreadsDim[2]);\n",
    "        printf(\"\\t maxGridSize: (%d, %d, %d).\\n\", deviceProp.maxGridSize[0], deviceProp.maxGridSize[1], deviceProp.maxGridSize[2]);\n",
    "        printf(\"\\t maxThreadsPerBlock: %d.\\n\", deviceProp.maxThreadsPerBlock);\n",
    "    }\n",
    "    return 0;    \n",
    "\n",
    "}\n",
    "    \"\"\")\n",
    "    cab.build()\n",
    "    cab.exec()"
   ]
  },
  {
   "cell_type": "code",
   "execution_count": null,
   "metadata": {},
   "outputs": [],
   "source": []
  },
  {
   "cell_type": "code",
   "execution_count": null,
   "metadata": {},
   "outputs": [],
   "source": []
  },
  {
   "attachments": {},
   "cell_type": "markdown",
   "metadata": {},
   "source": [
    "## add-mul\n",
    "计算  \n",
    "$y = a - \\dfrac{b}{2} + c^2 $\n"
   ]
  },
  {
   "cell_type": "code",
   "execution_count": 27,
   "metadata": {},
   "outputs": [],
   "source": [
    "# cuda \n",
    "with CudaAutoBuild() as cab:\n",
    "    cab.add_file(\"hello.cu\", r\"\"\"\n",
    "#include <stdio.h>\n",
    "\n",
    "// Definition of kernel functin to add two variable\n",
    "// y = a - b / 2 + c ** 2\n",
    "__global__ void\n",
    "arr_add(size_t n, float *d_a, float *d_b, float *d_c, float *d_y) {\n",
    "    size_t tid = blockIdx.x;\n",
    "    if (tid < n) {\n",
    "        d_y[tid] = d_a[tid] - d_b[tid] / 2 + d_c[tid] * d_c[tid];\n",
    "//        printf(\"idx a b c y: %05ld, %f, %f, %f, %f\\n\", tid, d_a[tid], d_b[tid],\n",
    "//               d_c[tid], d_y[tid]);\n",
    "    }\n",
    "}\n",
    "\n",
    "\n",
    "// main function\n",
    "int main() {\n",
    "    size_t n = 100000;\n",
    "    float h_a[n], h_b[n], h_c[n], h_y[n];\n",
    "    for (int i = 0; i < n; i++) {\n",
    "        h_a[i] = (float) i;\n",
    "        h_b[i] = (float) i;\n",
    "        h_c[i] = (float) i;\n",
    "        h_y[i] = 0;\n",
    "    }\n",
    "\n",
    "    float *d_a, *d_b, *d_c, *d_y;\n",
    "\n",
    "    // Allocating memory\n",
    "    cudaMalloc((void **) &d_a, n * sizeof(float));\n",
    "    cudaMalloc((void **) &d_b, n * sizeof(float));\n",
    "    cudaMalloc((void **) &d_c, n * sizeof(float));\n",
    "    cudaMalloc((void **) &d_y, n * sizeof(float));\n",
    "\n",
    "    // Copy data to device\n",
    "    cudaMemcpy(d_a, h_a, n * sizeof(float), cudaMemcpyHostToDevice);\n",
    "    cudaMemcpy(d_b, h_b, n * sizeof(float), cudaMemcpyHostToDevice);\n",
    "    cudaMemcpy(d_c, h_c, n * sizeof(float), cudaMemcpyHostToDevice);\n",
    "\n",
    "    // Kernel call\n",
    "    arr_add<<<n, 1>>>(n, d_a, d_b, d_c, d_y);\n",
    "\n",
    "    // Copy result\n",
    "    cudaMemcpy(h_y, d_y, n * sizeof(float), cudaMemcpyDeviceToHost);\n",
    "    \n",
    "    cudaDeviceSynchronize();\n",
    "\n",
    "    float sum = 0;\n",
    "    for (size_t i = 0; i < n; ++i) {\n",
    "        sum += h_y[i];\n",
    "    }\n",
    "    // printf(\"sum: %f, \", sum);\n",
    "    \n",
    "    // Free\n",
    "    cudaFree(d_a);\n",
    "    cudaFree(d_b);\n",
    "    cudaFree(d_c);\n",
    "    cudaFree(d_y);\n",
    "\n",
    "    return 0;\n",
    "}\n",
    "\n",
    "    \"\"\")\n",
    "    cab.build()\n",
    "    cab.exec()"
   ]
  },
  {
   "cell_type": "code",
   "execution_count": 28,
   "metadata": {},
   "outputs": [
    {
     "name": "stdout",
     "output_type": "stream",
     "text": [
      "189 ms ± 2.44 ms per loop (mean ± std. dev. of 7 runs, 10 loops each)\n"
     ]
    }
   ],
   "source": [
    "%%timeit  \n",
    "!/tmp/cuda-base/hello "
   ]
  },
  {
   "cell_type": "code",
   "execution_count": 29,
   "metadata": {},
   "outputs": [],
   "source": [
    "# cpp\n",
    "with CudaAutoBuild() as cab:\n",
    "    cab.add_file(\"hello.cu\", r\"\"\"\n",
    "#include <stdio.h>\n",
    "\n",
    "// Main Program\n",
    "// y = a - b / 2 + c ** 2\n",
    "void arr_add(size_t n, const float *a, const float *b, const float *c, float *y) {\n",
    "    for (size_t i = 0; i < n; ++i) {\n",
    "        y[i] = a[i] - b[i] / 2 + c[i] * c[i];\n",
    "    }\n",
    "}\n",
    "\n",
    "\n",
    "int main() {\n",
    "    size_t n = 100000;\n",
    "    float a[n], b[n], c[n], y[n];\n",
    "    for (int i = 0; i < n; i++) {\n",
    "        a[i] = (float)i;\n",
    "        b[i] = (float)i;\n",
    "        c[i] = (float)i;\n",
    "        y[i] = 0;\n",
    "    }\n",
    "\n",
    "    arr_add(n, a, b, c, y);\n",
    "    float sum = 0;\n",
    "    for (size_t i = 0; i < n; ++i) {\n",
    "        sum += y[i];\n",
    "    }\n",
    "    // printf(\"sum: %f, \", sum);\n",
    "}\n",
    "    \"\"\")\n",
    "    cab.build()\n",
    "    cab.exec()"
   ]
  },
  {
   "cell_type": "code",
   "execution_count": 30,
   "metadata": {},
   "outputs": [
    {
     "name": "stdout",
     "output_type": "stream",
     "text": [
      "123 ms ± 854 µs per loop (mean ± std. dev. of 7 runs, 10 loops each)\n"
     ]
    }
   ],
   "source": [
    "%%timeit  \n",
    "!/tmp/cuda-base/hello "
   ]
  },
  {
   "attachments": {},
   "cell_type": "markdown",
   "metadata": {},
   "source": [
    "### benchmark n 100000  \n",
    "```txt\n",
    "-------------------------------------------------------------\n",
    "Benchmark                   Time             CPU   Iterations\n",
    "-------------------------------------------------------------\n",
    "bm_arr_add_cpu/1       351769 ns       351759 ns         1905\n",
    "bm_arr_add_cpu/10     3320200 ns      3320090 ns          209\n",
    "bm_arr_add_cpu/100   33445583 ns     33444053 ns           21\n",
    "\n",
    "\n",
    "-------------------------------------------------------------\n",
    "Benchmark                   Time             CPU   Iterations\n",
    "-------------------------------------------------------------\n",
    "bm_arr_add_gpu/1       502368 ns       502253 ns        10000\n",
    "bm_arr_add_gpu/10     5023164 ns      5022271 ns         1000\n",
    "bm_arr_add_gpu/100   50218850 ns     50204298 ns          100\n",
    "\n",
    "\n",
    "----------------------------------------------------------------\n",
    "Benchmark                      Time             CPU   Iterations\n",
    "----------------------------------------------------------------\n",
    "bm_arr_add_cpu/100         18050 ns        18046 ns        36805\n",
    "bm_arr_add_cpu/1000      1690554 ns      1690532 ns          429\n",
    "bm_arr_add_cpu/10000   177923426 ns    177912452 ns            4\n",
    "bm_arr_add_cpu/100000 1.6662e+10 ns   1.6662e+10 ns            1\n",
    "\n",
    "----------------------------------------------------------------\n",
    "Benchmark                      Time             CPU   Iterations\n",
    "----------------------------------------------------------------\n",
    "bm_arr_add_gpu/100        287895 ns       287858 ns         2302\n",
    "bm_arr_add_gpu/1000      5723494 ns      5723163 ns          138\n",
    "bm_arr_add_gpu/10000   291581341 ns    291429314 ns            3\n",
    "bm_arr_add_gpu/100000 2.7557e+10 ns   2.7556e+10 ns            1\n",
    "\n",
    "```"
   ]
  },
  {
   "cell_type": "code",
   "execution_count": null,
   "metadata": {},
   "outputs": [],
   "source": []
  },
  {
   "attachments": {},
   "cell_type": "markdown",
   "metadata": {},
   "source": [
    "## 向量点乘  - todo\n",
    "$$A*B = (x_1, x_2, x_3) * (y_1, y_2, y_3) = x_1 * y_1 + x_2 * y_2 + x_3 * y_3$$\n",
    "$$\\mathbf{a}*\\mathbf{b} = \\sum_{0}^{n}a_i * b_i$$"
   ]
  },
  {
   "cell_type": "code",
   "execution_count": null,
   "metadata": {},
   "outputs": [],
   "source": []
  },
  {
   "cell_type": "code",
   "execution_count": null,
   "metadata": {},
   "outputs": [],
   "source": []
  },
  {
   "attachments": {},
   "cell_type": "markdown",
   "metadata": {},
   "source": [
    "矩阵乘法  --todo  \n",
    "\n",
    "$$ \n",
    "M =\n",
    "\\begin{bmatrix}\n",
    "1 & 0 \\\\\n",
    "0 & 1\n",
    "\\end{bmatrix}\n",
    "\\begin{bmatrix}\n",
    "1 & 0 \\\\\n",
    "0 & 1\n",
    "\\end{bmatrix}\n",
    "$$"
   ]
  },
  {
   "cell_type": "code",
   "execution_count": null,
   "metadata": {},
   "outputs": [],
   "source": []
  }
 ],
 "metadata": {
  "kernelspec": {
   "display_name": "py39",
   "language": "python",
   "name": "python3"
  },
  "language_info": {
   "codemirror_mode": {
    "name": "ipython",
    "version": 3
   },
   "file_extension": ".py",
   "mimetype": "text/x-python",
   "name": "python",
   "nbconvert_exporter": "python",
   "pygments_lexer": "ipython3",
   "version": "3.9.15"
  },
  "orig_nbformat": 4,
  "vscode": {
   "interpreter": {
    "hash": "d4238c57844cc908b76449bc4ddf9899590ca8e7952f36c82afaad1c379a56db"
   }
  }
 },
 "nbformat": 4,
 "nbformat_minor": 2
}
