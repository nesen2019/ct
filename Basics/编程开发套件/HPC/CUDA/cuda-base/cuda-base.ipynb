{
 "cells": [
  {
   "attachments": {},
   "cell_type": "markdown",
   "metadata": {},
   "source": [
    "# cuda-base"
   ]
  },
  {
   "attachments": {},
   "cell_type": "markdown",
   "metadata": {},
   "source": [
    "## 编译简化demo"
   ]
  },
  {
   "cell_type": "code",
   "execution_count": 36,
   "metadata": {},
   "outputs": [],
   "source": [
    "import os \n",
    "class CudaAutoBuild(object):\n",
    "    def __init__(self, root_dir = \"/tmp/cuda-base\"):\n",
    "        self.root_dir = root_dir \n",
    "        assert root_dir.startswith(\"/tmp\")\n",
    "        os.makedirs(self.root_dir, exist_ok=True)\n",
    "        os.system(f\"rm -rf {os.path.join(self.root_dir, '*')}\")\n",
    "\n",
    "\n",
    "    def __enter__(self):\n",
    "        return self\n",
    "    \n",
    "    def __exit__(self, *args, **kws):\n",
    "        pass \n",
    "    \n",
    "    def add_file(self, filename, filestr):\n",
    "        with open(os.path.join(self.root_dir, filename), \"w\") as f:\n",
    "            f.write(f\"{filestr.strip()}\\n\\n\")\n",
    "\n",
    "    def build(self, cmd=None):\n",
    "        if cmd is None:\n",
    "            cmd = \"nvcc hello.cu --generate-code arch=compute_50,code=sm_50 -o hello\"\n",
    "        os.system(f\"cd {self.root_dir} && {cmd}\")\n",
    "    \n",
    "    def exec(self, cmd=None):\n",
    "        if cmd is None:\n",
    "            cmd = \"hello\"\n",
    "        os.system(f\"cd {self.root_dir} && chmod +x {cmd} && ./{cmd}\")"
   ]
  },
  {
   "cell_type": "code",
   "execution_count": 37,
   "metadata": {},
   "outputs": [
    {
     "name": "stdout",
     "output_type": "stream",
     "text": [
      "Hello World from host!\n",
      "Hello World! from thread [0, 0] From device.\n"
     ]
    }
   ],
   "source": [
    "with CudaAutoBuild() as cab:\n",
    "    cab.add_file(\"hello.cu\", r\"\"\"\n",
    "#include <stdio.h>\n",
    "\n",
    "__global__ void print_HelloWorld(void) {\n",
    "    printf(\"Hello World! from thread [%d, %d] From device.\\n\", threadIdx.x, blockIdx.x);\n",
    "}\n",
    "\n",
    "int main() {\n",
    "    printf(\"Hello World from host!\\n\");\n",
    "    print_HelloWorld<<<1, 1>>>();\n",
    "\n",
    "    cudaDeviceSynchronize();\n",
    "    return 0;\n",
    "}\n",
    "    \"\"\")\n",
    "    cab.build()\n",
    "    cab.exec()\n",
    "\n"
   ]
  },
  {
   "attachments": {},
   "cell_type": "markdown",
   "metadata": {},
   "source": [
    "## e01-HelloWorld"
   ]
  },
  {
   "cell_type": "code",
   "execution_count": 21,
   "metadata": {},
   "outputs": [
    {
     "name": "stdout",
     "output_type": "stream",
     "text": [
      "mkdir: cannot create directory ‘build’: File exists\n"
     ]
    }
   ],
   "source": [
    "# create hello-world file\n",
    "custr_HelloWorld = r\"\"\"\n",
    "#include <stdio.h>\n",
    "\n",
    "__global__ void print_HelloWorld(void) {\n",
    "    printf(\"Hello World! from thread [%d, %d] From device.\\n\", threadIdx.x, blockIdx.x);\n",
    "}\n",
    "\n",
    "int main() {\n",
    "    printf(\"Hello World from host!\\n\");\n",
    "    print_HelloWorld<<<1, 1>>>();\n",
    "\n",
    "    cudaDeviceSynchronize();\n",
    "    return 0;\n",
    "}\n",
    "    \"\"\"\n",
    "\n",
    "!rm -rf build/*\n",
    "!mkdir build\n",
    "with open(\"build/hello-world.cu\", \"w\") as f:\n",
    "    f.write(custr_HelloWorld)\n"
   ]
  },
  {
   "cell_type": "code",
   "execution_count": 23,
   "metadata": {},
   "outputs": [],
   "source": [
    "# build\n",
    "!nvcc build/hello-world.cu \\\n",
    "    --generate-code arch=compute_50,code=sm_50 \\\n",
    "    -o build/hello-world\n"
   ]
  },
  {
   "cell_type": "code",
   "execution_count": 24,
   "metadata": {},
   "outputs": [
    {
     "name": "stdout",
     "output_type": "stream",
     "text": [
      "Hello World from host!\n",
      "Hello World! from thread [0, 0] From device.\n"
     ]
    }
   ],
   "source": [
    "# exec\n",
    "!chmod +x build/hello-world \n",
    "!build/hello-world"
   ]
  },
  {
   "cell_type": "code",
   "execution_count": null,
   "metadata": {},
   "outputs": [],
   "source": []
  },
  {
   "attachments": {},
   "cell_type": "markdown",
   "metadata": {},
   "source": [
    "## e02-add"
   ]
  },
  {
   "cell_type": "code",
   "execution_count": 44,
   "metadata": {},
   "outputs": [
    {
     "name": "stdout",
     "output_type": "stream",
     "text": [
      "125 + 236 = 361\n"
     ]
    }
   ],
   "source": [
    "with CudaAutoBuild() as cab:\n",
    "    cab.add_file(\"hello.cu\", r\"\"\"\n",
    "#include <stdio.h>\n",
    "\n",
    "\n",
    "// Definition of kernel functin to add two variable\n",
    "__global__ void gpu_add(int d_a, int d_b, int *d_c) {\n",
    "    *d_c = d_a + d_b;\n",
    "}\n",
    "\n",
    "// main function\n",
    "int main() {\n",
    "    // Defining host variable to store answer\n",
    "    int h_a = 125, h_b = 236;\n",
    "    int h_c;\n",
    "\n",
    "    // Defining device pointer\n",
    "    int *d_c;\n",
    "\n",
    "    // Allocating memory for device pointer\n",
    "    cudaMalloc((void**)&d_c, sizeof(int));\n",
    "\n",
    "    // Kernal call\n",
    "    gpu_add<<<1, 1>>>(h_a, h_b, d_c);\n",
    "\n",
    "    // Copy result from device memory to host memory\n",
    "    cudaMemcpy(&h_c, d_c, sizeof(int), cudaMemcpyDeviceToHost);\n",
    "\n",
    "    printf(\"%d + %d = %d\\n\", h_a, h_b, h_c);\n",
    "\n",
    "    // Free up memory\n",
    "    cudaFree(d_c);\n",
    "\n",
    "}\n",
    "    \"\"\")\n",
    "    cab.build()\n",
    "    cab.exec()"
   ]
  },
  {
   "cell_type": "code",
   "execution_count": null,
   "metadata": {},
   "outputs": [],
   "source": []
  },
  {
   "attachments": {},
   "cell_type": "markdown",
   "metadata": {},
   "source": [
    "## device count"
   ]
  },
  {
   "cell_type": "code",
   "execution_count": 46,
   "metadata": {},
   "outputs": [
    {
     "name": "stdout",
     "output_type": "stream",
     "text": [
      "Device 0 has compute capability 5.0.\n"
     ]
    }
   ],
   "source": [
    "with CudaAutoBuild() as cab:\n",
    "    cab.add_file(\"hello.cu\", r\"\"\"\n",
    "#include <stdio.h>\n",
    "\n",
    "// main function\n",
    "int main() {\n",
    "    \n",
    "    int deviceCount = -1;\n",
    "    cudaGetDeviceCount(&deviceCount);\n",
    "    for (int device = 0; device < deviceCount; ++device) {\n",
    "        cudaDeviceProp deviceProp;\n",
    "        cudaGetDeviceProperties(&deviceProp, device);\n",
    "        printf(\"Device %d has compute capability %d.%d. \\n\",\n",
    "            device, deviceProp.major, deviceProp.minor\n",
    "        );\n",
    "    }\n",
    "    return 0;    \n",
    "\n",
    "}\n",
    "    \"\"\")\n",
    "    cab.build()\n",
    "    cab.exec()"
   ]
  },
  {
   "cell_type": "code",
   "execution_count": null,
   "metadata": {},
   "outputs": [],
   "source": []
  },
  {
   "cell_type": "code",
   "execution_count": null,
   "metadata": {},
   "outputs": [],
   "source": []
  }
 ],
 "metadata": {
  "kernelspec": {
   "display_name": "py39",
   "language": "python",
   "name": "python3"
  },
  "language_info": {
   "codemirror_mode": {
    "name": "ipython",
    "version": 3
   },
   "file_extension": ".py",
   "mimetype": "text/x-python",
   "name": "python",
   "nbconvert_exporter": "python",
   "pygments_lexer": "ipython3",
   "version": "3.9.15"
  },
  "orig_nbformat": 4,
  "vscode": {
   "interpreter": {
    "hash": "d4238c57844cc908b76449bc4ddf9899590ca8e7952f36c82afaad1c379a56db"
   }
  }
 },
 "nbformat": 4,
 "nbformat_minor": 2
}
