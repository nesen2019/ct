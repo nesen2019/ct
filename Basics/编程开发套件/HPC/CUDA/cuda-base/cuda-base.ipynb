{
 "cells": [
  {
   "attachments": {},
   "cell_type": "markdown",
   "metadata": {},
   "source": [
    "# cuda-base"
   ]
  },
  {
   "attachments": {},
   "cell_type": "markdown",
   "metadata": {},
   "source": [
    "## e01-HelloWorld"
   ]
  },
  {
   "cell_type": "code",
   "execution_count": 21,
   "metadata": {},
   "outputs": [
    {
     "name": "stdout",
     "output_type": "stream",
     "text": [
      "mkdir: cannot create directory ‘build’: File exists\n"
     ]
    }
   ],
   "source": [
    "# create hello-world file\n",
    "custr_HelloWorld = r\"\"\"\n",
    "#include <stdio.h>\n",
    "\n",
    "__global__ void print_HelloWorld(void) {\n",
    "    printf(\"Hello World! from thread [%d, %d] From device.\\n\", threadIdx.x, blockIdx.x);\n",
    "}\n",
    "\n",
    "int main() {\n",
    "    printf(\"Hello World from host!\\n\");\n",
    "    print_HelloWorld<<<1, 1>>>();\n",
    "\n",
    "    cudaDeviceSynchronize();\n",
    "    return 0;\n",
    "}\n",
    "    \"\"\"\n",
    "\n",
    "!rm -rf build/*\n",
    "!mkdir build\n",
    "with open(\"build/hello-world.cu\", \"w\") as f:\n",
    "    f.write(custr_HelloWorld)\n"
   ]
  },
  {
   "cell_type": "code",
   "execution_count": 23,
   "metadata": {},
   "outputs": [],
   "source": [
    "# build\n",
    "!nvcc build/hello-world.cu \\\n",
    "    --generate-code arch=compute_50,code=sm_50 \\\n",
    "    -o build/hello-world\n"
   ]
  },
  {
   "cell_type": "code",
   "execution_count": 24,
   "metadata": {},
   "outputs": [
    {
     "name": "stdout",
     "output_type": "stream",
     "text": [
      "Hello World from host!\n",
      "Hello World! from thread [0, 0] From device.\n"
     ]
    }
   ],
   "source": [
    "# exec\n",
    "!chmod +x build/hello-world \n",
    "!build/hello-world"
   ]
  },
  {
   "cell_type": "code",
   "execution_count": null,
   "metadata": {},
   "outputs": [],
   "source": []
  }
 ],
 "metadata": {
  "kernelspec": {
   "display_name": "py39",
   "language": "python",
   "name": "python3"
  },
  "language_info": {
   "codemirror_mode": {
    "name": "ipython",
    "version": 3
   },
   "file_extension": ".py",
   "mimetype": "text/x-python",
   "name": "python",
   "nbconvert_exporter": "python",
   "pygments_lexer": "ipython3",
   "version": "3.9.15"
  },
  "orig_nbformat": 4,
  "vscode": {
   "interpreter": {
    "hash": "d4238c57844cc908b76449bc4ddf9899590ca8e7952f36c82afaad1c379a56db"
   }
  }
 },
 "nbformat": 4,
 "nbformat_minor": 2
}
