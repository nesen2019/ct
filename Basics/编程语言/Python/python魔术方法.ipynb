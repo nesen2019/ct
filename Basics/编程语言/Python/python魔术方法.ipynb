{
 "cells": [
  {
   "cell_type": "markdown",
   "metadata": {},
   "source": [
    "## python魔术方法"
   ]
  },
  {
   "attachments": {},
   "cell_type": "markdown",
   "metadata": {},
   "source": [
    "### `__enter__`, `__exit__`"
   ]
  },
  {
   "cell_type": "code",
   "execution_count": 6,
   "metadata": {},
   "outputs": [],
   "source": [
    "class A():\n",
    "    def __init__(self):\n",
    "        print(f\"A.__init__() \")\n",
    "    def __enter__(self):\n",
    "        print(f\"A.__enter__() \")\n",
    "    def __exit__(self, *args, **kws):\n",
    "        print(f\"A.__exit__() \")\n",
    "        print(f\"\\targs: {args}, kws: {kws}\")\n",
    "\n"
   ]
  },
  {
   "cell_type": "code",
   "execution_count": 7,
   "metadata": {},
   "outputs": [
    {
     "name": "stdout",
     "output_type": "stream",
     "text": [
      "A.__init__() \n"
     ]
    }
   ],
   "source": [
    "a = A()"
   ]
  },
  {
   "cell_type": "code",
   "execution_count": 11,
   "metadata": {},
   "outputs": [
    {
     "name": "stdout",
     "output_type": "stream",
     "text": [
      "A.__init__() \n",
      "A.__enter__() \n",
      "A.__exit__() \n",
      "\targs: (None, None, None), kws: {}\n"
     ]
    }
   ],
   "source": [
    "with A() as b:\n",
    "    pass "
   ]
  },
  {
   "cell_type": "code",
   "execution_count": null,
   "metadata": {},
   "outputs": [],
   "source": []
  }
 ],
 "metadata": {
  "kernelspec": {
   "display_name": "py39",
   "language": "python",
   "name": "python3"
  },
  "language_info": {
   "codemirror_mode": {
    "name": "ipython",
    "version": 3
   },
   "file_extension": ".py",
   "mimetype": "text/x-python",
   "name": "python",
   "nbconvert_exporter": "python",
   "pygments_lexer": "ipython3",
   "version": "3.9.15"
  },
  "orig_nbformat": 4,
  "vscode": {
   "interpreter": {
    "hash": "d4238c57844cc908b76449bc4ddf9899590ca8e7952f36c82afaad1c379a56db"
   }
  }
 },
 "nbformat": 4,
 "nbformat_minor": 2
}
