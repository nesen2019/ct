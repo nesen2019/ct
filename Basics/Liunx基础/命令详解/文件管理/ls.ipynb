{
 "cells": [
  {
   "cell_type": "code",
   "execution_count": 10,
   "metadata": {},
   "outputs": [
    {
     "name": "stdout",
     "output_type": "stream",
     "text": [
      "Usage: cat [OPTION]... [FILE]...\n",
      "Concatenate FILE(s) to standard output.\n",
      "\n",
      "With no FILE, or when FILE is -, read standard input.\n",
      "\n",
      "  -A, --show-all           equivalent to -vET\n",
      "  -b, --number-nonblank    number nonempty output lines, overrides -n\n",
      "  -e                       equivalent to -vE\n",
      "  -E, --show-ends          display $ at end of each line\n",
      "  -n, --number             number all output lines\n",
      "  -s, --squeeze-blank      suppress repeated empty output lines\n",
      "  -t                       equivalent to -vT\n",
      "  -T, --show-tabs          display TAB characters as ^I\n",
      "  -u                       (ignored)\n",
      "  -v, --show-nonprinting   use ^ and M- notation, except for LFD and TAB\n",
      "      --help     display this help and exit\n",
      "      --version  output version information and exit\n",
      "\n",
      "Examples:\n",
      "  cat f - g  Output f's contents, then standard input, then g's contents.\n",
      "  cat        Copy standard input to standard output.\n",
      "\n",
      "GNU coreutils online help: <https://www.gnu.org/software/coreutils/>\n",
      "Full documentation <https://www.gnu.org/software/coreutils/cat>\n",
      "or available locally via: info '(coreutils) cat invocation'\n"
     ]
    }
   ],
   "source": [
    "!cat --help"
   ]
  },
  {
   "attachments": {},
   "cell_type": "markdown",
   "metadata": {},
   "source": [
    "# ls\n",
    "cat（英文全拼：concatenate）命令用于连接文件并打印到标准输出设备上。"
   ]
  },
  {
   "attachments": {},
   "cell_type": "markdown",
   "metadata": {},
   "source": [
    "## 创建文件"
   ]
  },
  {
   "cell_type": "code",
   "execution_count": 11,
   "metadata": {},
   "outputs": [],
   "source": [
    "!echo abc > a.txt"
   ]
  },
  {
   "attachments": {},
   "cell_type": "markdown",
   "metadata": {},
   "source": [
    "## 查看文件内容"
   ]
  },
  {
   "cell_type": "code",
   "execution_count": 12,
   "metadata": {},
   "outputs": [
    {
     "name": "stdout",
     "output_type": "stream",
     "text": [
      "abc\n"
     ]
    }
   ],
   "source": [
    "!cat a.txt"
   ]
  },
  {
   "attachments": {},
   "cell_type": "markdown",
   "metadata": {},
   "source": [
    "## -n 可选参数作用\n",
    "给输出增加行号"
   ]
  },
  {
   "cell_type": "code",
   "execution_count": 13,
   "metadata": {},
   "outputs": [
    {
     "name": "stdout",
     "output_type": "stream",
     "text": [
      "     1\tabc\n"
     ]
    }
   ],
   "source": [
    "!cat a.txt -n > b.txt\n",
    "!cat b.txt"
   ]
  },
  {
   "attachments": {},
   "cell_type": "markdown",
   "metadata": {},
   "source": [
    "## -T 可选参数作用\n",
    "将\\t转化成^I"
   ]
  },
  {
   "cell_type": "code",
   "execution_count": 14,
   "metadata": {},
   "outputs": [
    {
     "name": "stdout",
     "output_type": "stream",
     "text": [
      "     1^Iabc\n",
      "     1\tabc\n"
     ]
    }
   ],
   "source": [
    "!cat b.txt -T\n",
    "!cat b.txt"
   ]
  },
  {
   "cell_type": "code",
   "execution_count": null,
   "metadata": {},
   "outputs": [],
   "source": []
  },
  {
   "attachments": {},
   "cell_type": "markdown",
   "metadata": {},
   "source": [
    "## 删除txt文件"
   ]
  },
  {
   "cell_type": "code",
   "execution_count": 15,
   "metadata": {},
   "outputs": [],
   "source": [
    "!rm -rf *.txt"
   ]
  },
  {
   "cell_type": "code",
   "execution_count": null,
   "metadata": {},
   "outputs": [],
   "source": []
  }
 ],
 "metadata": {
  "kernelspec": {
   "display_name": "py39",
   "language": "python",
   "name": "python3"
  },
  "language_info": {
   "codemirror_mode": {
    "name": "ipython",
    "version": 3
   },
   "file_extension": ".py",
   "mimetype": "text/x-python",
   "name": "python",
   "nbconvert_exporter": "python",
   "pygments_lexer": "ipython3",
   "version": "3.9.15"
  },
  "orig_nbformat": 4,
  "vscode": {
   "interpreter": {
    "hash": "d4238c57844cc908b76449bc4ddf9899590ca8e7952f36c82afaad1c379a56db"
   }
  }
 },
 "nbformat": 4,
 "nbformat_minor": 2
}
