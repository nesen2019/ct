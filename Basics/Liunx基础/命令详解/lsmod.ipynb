{
 "cells": [
  {
   "attachments": {},
   "cell_type": "markdown",
   "metadata": {},
   "source": [
    "# lsmod\n",
    "显示已载入系统的模块"
   ]
  },
  {
   "cell_type": "code",
   "execution_count": 1,
   "metadata": {},
   "outputs": [
    {
     "name": "stdout",
     "output_type": "stream",
     "text": [
      "nvidia_uvm           1310720  0\n",
      "nvidia_drm             69632  2\n",
      "nvidia_modeset       1146880  2 nvidia_drm\n",
      "nvidia              40849408  82 nvidia_uvm,nvidia_modeset\n",
      "drm_kms_helper        311296  2 nvidia_drm,i915\n",
      "drm                   622592  15 drm_kms_helper,nvidia,nvidia_drm,i915,ttm\n"
     ]
    }
   ],
   "source": [
    "!lsmod |grep nvidia"
   ]
  },
  {
   "cell_type": "code",
   "execution_count": null,
   "metadata": {},
   "outputs": [],
   "source": []
  }
 ],
 "metadata": {
  "kernelspec": {
   "display_name": "py39",
   "language": "python",
   "name": "python3"
  },
  "language_info": {
   "codemirror_mode": {
    "name": "ipython",
    "version": 3
   },
   "file_extension": ".py",
   "mimetype": "text/x-python",
   "name": "python",
   "nbconvert_exporter": "python",
   "pygments_lexer": "ipython3",
   "version": "3.9.15"
  },
  "orig_nbformat": 4,
  "vscode": {
   "interpreter": {
    "hash": "d4238c57844cc908b76449bc4ddf9899590ca8e7952f36c82afaad1c379a56db"
   }
  }
 },
 "nbformat": 4,
 "nbformat_minor": 2
}
