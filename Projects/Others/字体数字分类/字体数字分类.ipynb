{
 "cells": [
  {
   "cell_type": "code",
   "execution_count": null,
   "metadata": {},
   "outputs": [],
   "source": []
  },
  {
   "attachments": {},
   "cell_type": "markdown",
   "metadata": {},
   "source": [
    "# 字体数字分类"
   ]
  },
  {
   "attachments": {},
   "cell_type": "markdown",
   "metadata": {},
   "source": [
    "## 创建随机字体数字图片"
   ]
  },
  {
   "cell_type": "code",
   "execution_count": 18,
   "metadata": {},
   "outputs": [],
   "source": [
    "import cv2\n",
    "import numpy as np \n",
    "import matplotlib.pyplot as plt\n",
    "from PIL import Image, ImageFont, ImageDraw "
   ]
  },
  {
   "cell_type": "code",
   "execution_count": 19,
   "metadata": {},
   "outputs": [],
   "source": [
    "import torch "
   ]
  },
  {
   "cell_type": "code",
   "execution_count": 20,
   "metadata": {},
   "outputs": [
    {
     "data": {
      "image/png": "[encoded data removed]",
      "text/plain": [
       "<PIL.Image.Image image mode=RGB size=32x32 at 0x7F3992D6BB80>"
      ]
     },
     "execution_count": 20,
     "metadata": {},
     "output_type": "execute_result"
    }
   ],
   "source": [
    "img = np.zeros((32,32,3), dtype=np.uint8)\n",
    "Image.fromarray(img)"
   ]
  },
  {
   "cell_type": "code",
   "execution_count": 263,
   "metadata": {},
   "outputs": [
    {
     "data": {
      "image/png": "[encoded data removed]",
      "text/plain": [
       "<PIL.Image.Image image mode=RGB size=32x32 at 0x7F392D059940>"
      ]
     },
     "execution_count": 263,
     "metadata": {},
     "output_type": "execute_result"
    }
   ],
   "source": [
    "\n",
    "def get_img(text, nums=1, shape=(32,32,3)):\n",
    "    # img = np.random.randint(0, 255, shape, dtype=np.uint8)\n",
    "    img = np.zeros(shape, dtype=np.uint8)\n",
    "    img = cv2.putText(img, f\"{text}\", (3, shape[1] - 3), cv2.FONT_HERSHEY_SCRIPT_SIMPLEX, 1, (255,255,255), 2, cv2.LINE_AA)\n",
    "    return img \n",
    "\n",
    "Image.fromarray(get_img(8))"
   ]
  },
  {
   "cell_type": "code",
   "execution_count": null,
   "metadata": {},
   "outputs": [],
   "source": []
  },
  {
   "attachments": {},
   "cell_type": "markdown",
   "metadata": {},
   "source": [
    "## 创建数据"
   ]
  },
  {
   "cell_type": "code",
   "execution_count": 24,
   "metadata": {},
   "outputs": [],
   "source": [
    "import random \n",
    "from torch.utils.data import Dataset \n",
    "from torch.utils.data import DataLoader\n"
   ]
  },
  {
   "cell_type": "code",
   "execution_count": 253,
   "metadata": {},
   "outputs": [],
   "source": [
    "class FontNumberDataset(Dataset):\n",
    "    def __init__(self, length=60000):\n",
    "        self.length = length\n",
    "    \n",
    "    def __len__(self):\n",
    "        return self.length \n",
    "    \n",
    "    def __getitem__(self, idx):\n",
    "        label = random.randint(0, 9)\n",
    "        img = get_img(label)\n",
    "        gray = cv2.cvtColor(img, cv2.COLOR_BGR2GRAY)\n",
    "        gray = torch.Tensor(gray)\n",
    "        gray = gray.gray = gray.unsqueeze(0)\n",
    "        return gray, label\n"
   ]
  },
  {
   "cell_type": "code",
   "execution_count": 249,
   "metadata": {},
   "outputs": [
    {
     "data": {
      "text/plain": [
       "torch.Size([1, 10, 10])"
      ]
     },
     "execution_count": 249,
     "metadata": {},
     "output_type": "execute_result"
    }
   ],
   "source": [
    "gray = torch.Tensor(np.random.randint(0, 255, (10,10)))\n",
    "gray = gray.unsqueeze(0)\n",
    "gray.shape"
   ]
  },
  {
   "cell_type": "code",
   "execution_count": 254,
   "metadata": {},
   "outputs": [],
   "source": [
    "\n",
    "train_dataloader = DataLoader(FontNumberDataset(), batch_size=64, shuffle=True)\n",
    "test_dataloader = DataLoader(FontNumberDataset(), batch_size=64, shuffle=True)"
   ]
  },
  {
   "cell_type": "code",
   "execution_count": 266,
   "metadata": {},
   "outputs": [
    {
     "name": "stdout",
     "output_type": "stream",
     "text": [
      "Feature batch shape: torch.Size([64, 1, 32, 32])\n",
      "Labels batch shape: torch.Size([64])\n"
     ]
    },
    {
     "data": {
      "image/png": "[encoded data removed]",
      "text/plain": [
       "<Figure size 640x480 with 1 Axes>"
      ]
     },
     "metadata": {},
     "output_type": "display_data"
    },
    {
     "name": "stdout",
     "output_type": "stream",
     "text": [
      "Label: 9\n"
     ]
    }
   ],
   "source": [
    "train_features, train_labels = next(iter(train_dataloader))\n",
    "print(f\"Feature batch shape: {train_features.size()}\")\n",
    "print(f\"Labels batch shape: {train_labels.size()}\")\n",
    "img = train_features[0].squeeze()\n",
    "label = train_labels[0]\n",
    "plt.imshow(img, cmap=\"gray\")\n",
    "plt.show()\n",
    "print(f\"Label: {label}\")"
   ]
  },
  {
   "cell_type": "code",
   "execution_count": null,
   "metadata": {},
   "outputs": [],
   "source": []
  },
  {
   "attachments": {},
   "cell_type": "markdown",
   "metadata": {},
   "source": [
    "## 创建PyTorch模型"
   ]
  },
  {
   "cell_type": "code",
   "execution_count": 28,
   "metadata": {},
   "outputs": [],
   "source": [
    "import torch\n",
    "from torch import nn\n",
    "from torchvision.transforms import ToTensor"
   ]
  },
  {
   "cell_type": "code",
   "execution_count": 246,
   "metadata": {},
   "outputs": [
    {
     "name": "stdout",
     "output_type": "stream",
     "text": [
      "Using cuda device\n",
      "LeNet5(\n",
      "  (features): Sequential(\n",
      "    (0): Conv2d(1, 6, kernel_size=(5, 5), stride=(1, 1))\n",
      "    (1): Tanh()\n",
      "    (2): AvgPool2d(kernel_size=2, stride=2, padding=0)\n",
      "    (3): Conv2d(6, 16, kernel_size=(5, 5), stride=(1, 1))\n",
      "    (4): Tanh()\n",
      "    (5): AvgPool2d(kernel_size=2, stride=2, padding=0)\n",
      "    (6): Conv2d(16, 120, kernel_size=(5, 5), stride=(1, 1))\n",
      "    (7): Tanh()\n",
      "  )\n",
      "  (classifier): Sequential(\n",
      "    (0): Linear(in_features=120, out_features=84, bias=True)\n",
      "    (1): Tanh()\n",
      "    (2): Linear(in_features=84, out_features=10, bias=True)\n",
      "  )\n",
      ")\n"
     ]
    }
   ],
   "source": [
    "# Get cpu or gpu device for training.\n",
    "device = \"cuda\" if torch.cuda.is_available() else \"cpu\"\n",
    "print(f\"Using {device} device\")\n",
    "\n",
    "# Define model\n",
    "class LeNet5(nn.Module):\n",
    "    def __init__(self, num_classes=-1):\n",
    "        super(LeNet5, self).__init__()\n",
    "        self.num_classes = num_classes\n",
    "        self.features = nn.Sequential(\n",
    "            nn.Conv2d(1, 6, kernel_size=5, stride=1), nn.Tanh(),\n",
    "            nn.AvgPool2d(kernel_size=2),\n",
    "            nn.Conv2d(6, 16, kernel_size=5, stride=1), nn.Tanh(),\n",
    "            nn.AvgPool2d(kernel_size=2),\n",
    "            nn.Conv2d(16, 120, kernel_size=5, stride=1), nn.Tanh())\n",
    "        if self.num_classes > 0:\n",
    "            self.classifier = nn.Sequential(\n",
    "                nn.Linear(120, 84),\n",
    "                nn.Tanh(),\n",
    "                nn.Linear(84, num_classes),\n",
    "            )\n",
    "\n",
    "    def forward(self, x):\n",
    "\n",
    "        x = self.features(x)\n",
    "        if self.num_classes > 0:\n",
    "            x = self.classifier(x.squeeze())\n",
    "\n",
    "        return x\n",
    "\n",
    "\n",
    "\n",
    "\n",
    "model = LeNet5(10).to(device)\n",
    "print(model)"
   ]
  },
  {
   "attachments": {},
   "cell_type": "markdown",
   "metadata": {},
   "source": [
    "## 创建优化器"
   ]
  },
  {
   "cell_type": "code",
   "execution_count": 224,
   "metadata": {},
   "outputs": [],
   "source": [
    "loss_fn = nn.CrossEntropyLoss()\n",
    "optimizer = torch.optim.SGD(model.parameters(), lr=1e-3)"
   ]
  },
  {
   "attachments": {},
   "cell_type": "markdown",
   "metadata": {},
   "source": [
    "## 训练模型"
   ]
  },
  {
   "cell_type": "code",
   "execution_count": 227,
   "metadata": {},
   "outputs": [],
   "source": [
    "def train(dataloader, model, loss_fn, optimizer):\n",
    "    size = len(dataloader.dataset)\n",
    "    model.train()\n",
    "    for batch, (X, y) in enumerate(dataloader):\n",
    "        X, y = X.to(device), y.to(device)\n",
    "\n",
    "        # Compute prediction error\n",
    "        pred = model(X)\n",
    "        loss = loss_fn(pred, y)\n",
    "\n",
    "        # Backpropagation\n",
    "        optimizer.zero_grad()\n",
    "        loss.backward()\n",
    "        optimizer.step()\n",
    "\n",
    "        if batch % 100 == 0:\n",
    "            loss, current = loss.item(), (batch + 1) * len(X)\n",
    "            print(f\"loss: {loss:>7f}  [{current:>5d}/{size:>5d}]\")"
   ]
  },
  {
   "cell_type": "code",
   "execution_count": 226,
   "metadata": {},
   "outputs": [],
   "source": [
    "def test(dataloader, model, loss_fn):\n",
    "    size = len(dataloader.dataset)\n",
    "    num_batches = len(dataloader)\n",
    "    model.eval()\n",
    "    test_loss, correct = 0, 0\n",
    "    with torch.no_grad():\n",
    "        for X, y in dataloader:\n",
    "            X, y = X.to(device), y.to(device)\n",
    "            pred = model(X)\n",
    "            test_loss += loss_fn(pred, y).item()\n",
    "            correct += (pred.argmax(1) == y).type(torch.float).sum().item()\n",
    "    test_loss /= num_batches\n",
    "    correct /= size\n",
    "    print(f\"Test Error: \\n Accuracy: {(100*correct):>0.1f}%, Avg loss: {test_loss:>8f} \\n\")"
   ]
  },
  {
   "cell_type": "code",
   "execution_count": 267,
   "metadata": {},
   "outputs": [
    {
     "name": "stdout",
     "output_type": "stream",
     "text": [
      "Epoch 1\n",
      "-------------------------------\n",
      "loss: 2.306608  [   64/60000]\n",
      "loss: 2.316438  [ 6464/60000]\n",
      "loss: 2.319332  [12864/60000]\n",
      "loss: 2.311575  [19264/60000]\n",
      "loss: 2.329077  [25664/60000]\n",
      "loss: 2.306381  [32064/60000]\n",
      "loss: 2.321919  [38464/60000]\n",
      "loss: 2.330587  [44864/60000]\n",
      "loss: 2.323778  [51264/60000]\n",
      "loss: 2.309835  [57664/60000]\n",
      "Test Error: \n",
      " Accuracy: 9.9%, Avg loss: 2.320163 \n",
      "\n",
      "Epoch 2\n",
      "-------------------------------\n",
      "loss: 2.326779  [   64/60000]\n",
      "loss: 2.313706  [ 6464/60000]\n",
      "loss: 2.337355  [12864/60000]\n",
      "loss: 2.317734  [19264/60000]\n",
      "loss: 2.334779  [25664/60000]\n",
      "loss: 2.306442  [32064/60000]\n",
      "loss: 2.330477  [38464/60000]\n",
      "loss: 2.313225  [44864/60000]\n",
      "loss: 2.323377  [51264/60000]\n",
      "loss: 2.317936  [57664/60000]\n",
      "Test Error: \n",
      " Accuracy: 10.1%, Avg loss: 2.319780 \n",
      "\n",
      "Epoch 3\n",
      "-------------------------------\n",
      "loss: 2.322984  [   64/60000]\n",
      "loss: 2.319089  [ 6464/60000]\n",
      "loss: 2.345253  [12864/60000]\n",
      "loss: 2.301015  [19264/60000]\n",
      "loss: 2.313772  [25664/60000]\n",
      "loss: 2.300312  [32064/60000]\n",
      "loss: 2.325882  [38464/60000]\n",
      "loss: 2.315132  [44864/60000]\n",
      "loss: 2.327062  [51264/60000]\n",
      "loss: 2.304287  [57664/60000]\n",
      "Test Error: \n",
      " Accuracy: 10.0%, Avg loss: 2.319786 \n",
      "\n",
      "Epoch 4\n",
      "-------------------------------\n",
      "loss: 2.319030  [   64/60000]\n",
      "loss: 2.309652  [ 6464/60000]\n",
      "loss: 2.336704  [12864/60000]\n",
      "loss: 2.315458  [19264/60000]\n",
      "loss: 2.309846  [25664/60000]\n",
      "loss: 2.315264  [32064/60000]\n",
      "loss: 2.300007  [38464/60000]\n",
      "loss: 2.326619  [44864/60000]\n",
      "loss: 2.314146  [51264/60000]\n",
      "loss: 2.321883  [57664/60000]\n",
      "Test Error: \n",
      " Accuracy: 10.0%, Avg loss: 2.319846 \n",
      "\n",
      "Epoch 5\n",
      "-------------------------------\n",
      "loss: 2.329321  [   64/60000]\n",
      "loss: 2.323154  [ 6464/60000]\n",
      "loss: 2.317477  [12864/60000]\n",
      "loss: 2.329167  [19264/60000]\n",
      "loss: 2.317223  [25664/60000]\n",
      "loss: 2.298921  [32064/60000]\n",
      "loss: 2.336780  [38464/60000]\n",
      "loss: 2.316171  [44864/60000]\n",
      "loss: 2.333612  [51264/60000]\n",
      "loss: 2.318956  [57664/60000]\n",
      "Test Error: \n",
      " Accuracy: 9.9%, Avg loss: 2.320493 \n",
      "\n",
      "Done!\n"
     ]
    }
   ],
   "source": [
    "epochs = 5\n",
    "for t in range(epochs):\n",
    "    print(f\"Epoch {t+1}\\n-------------------------------\")\n",
    "    train(train_dataloader, model, loss_fn, optimizer)\n",
    "    test(test_dataloader, model, loss_fn)\n",
    "print(\"Done!\")"
   ]
  },
  {
   "cell_type": "code",
   "execution_count": null,
   "metadata": {},
   "outputs": [],
   "source": []
  },
  {
   "cell_type": "code",
   "execution_count": null,
   "metadata": {},
   "outputs": [],
   "source": []
  },
  {
   "attachments": {},
   "cell_type": "markdown",
   "metadata": {},
   "source": [
    "## 保存模型"
   ]
  },
  {
   "attachments": {},
   "cell_type": "markdown",
   "metadata": {},
   "source": [
    "## Saving Models"
   ]
  },
  {
   "cell_type": "code",
   "execution_count": 34,
   "metadata": {},
   "outputs": [
    {
     "name": "stdout",
     "output_type": "stream",
     "text": [
      "Saved PyTorch Model State to model.pth\n"
     ]
    }
   ],
   "source": [
    "torch.save(model.state_dict(), \"model.pth\")\n",
    "print(\"Saved PyTorch Model State to model.pth\")"
   ]
  },
  {
   "attachments": {},
   "cell_type": "markdown",
   "metadata": {},
   "source": [
    "## Loading Models"
   ]
  },
  {
   "cell_type": "code",
   "execution_count": 35,
   "metadata": {},
   "outputs": [
    {
     "data": {
      "text/plain": [
       "<All keys matched successfully>"
      ]
     },
     "execution_count": 35,
     "metadata": {},
     "output_type": "execute_result"
    }
   ],
   "source": [
    "model = NeuralNetwork()\n",
    "model.load_state_dict(torch.load(\"model.pth\"))"
   ]
  },
  {
   "cell_type": "code",
   "execution_count": null,
   "metadata": {},
   "outputs": [],
   "source": []
  },
  {
   "attachments": {},
   "cell_type": "markdown",
   "metadata": {},
   "source": [
    "## 模型评价"
   ]
  },
  {
   "cell_type": "markdown",
   "metadata": {},
   "source": []
  },
  {
   "cell_type": "code",
   "execution_count": 36,
   "metadata": {},
   "outputs": [
    {
     "name": "stdout",
     "output_type": "stream",
     "text": [
      "torch.Size([64, 28, 28]) torch.float32 cuda:0\n"
     ]
    }
   ],
   "source": [
    "for X, y in test_dataloader:\n",
    "    X, y = X.to(device), y.to(device)\n",
    "    print(X.shape, X.dtype, X.device)\n",
    "    model.to(device)\n",
    "    model(X)\n",
    "    break "
   ]
  },
  {
   "cell_type": "code",
   "execution_count": 282,
   "metadata": {},
   "outputs": [
    {
     "name": "stdout",
     "output_type": "stream",
     "text": [
      "torch.Size([1, 1, 32, 32])\n",
      "torch.Size([1, 1, 32, 32]) torch.float32 cuda:0\n",
      "tensor([-0.1024,  0.0019,  0.1228, -0.0972,  0.0768, -0.0446,  0.0355,  0.0413,\n",
      "        -0.1128, -0.1799], device='cuda:0')\n",
      "tensor(2, device='cuda:0')\n"
     ]
    }
   ],
   "source": [
    "img = get_img(2)\n",
    "gray = cv2.cvtColor(img, cv2.COLOR_BGR2GRAY)\n",
    "\n",
    "x = torch.from_numpy(np.array(gray, dtype=np.float32))\n",
    "x = x.unsqueeze(0).unsqueeze(0)\n",
    "\n",
    "model.eval()\n",
    "\n",
    "\n",
    "x = x.to(device)\n",
    "model = model.to(device)\n",
    "print(x.shape, x.dtype, x.device)\n",
    "\n",
    "with torch.no_grad():\n",
    "    pred = model(x)\n",
    "    print(pred)\n",
    "    print(pred.argmax(0))\n",
    "\n",
    "# with torch.no_grad():\n",
    "#     pred = model(x)\n",
    "#     predicted, actual = classes[pred[0].argmax(0)], classes[y]\n",
    "#     print(f'Predicted: \"{predicted}\", Actual: \"{actual}\"')"
   ]
  },
  {
   "cell_type": "code",
   "execution_count": 285,
   "metadata": {},
   "outputs": [
    {
     "name": "stdout",
     "output_type": "stream",
     "text": [
      "tensor([[-0.0473, -0.0488,  0.1077, -0.0645,  0.0251, -0.0322,  0.0493, -0.0204,\n",
      "         -0.0721, -0.0746],\n",
      "        [-0.0473, -0.0488,  0.1077, -0.0645,  0.0251, -0.0322,  0.0493, -0.0204,\n",
      "         -0.0721, -0.0746]], device='cuda:0', grad_fn=<AddmmBackward0>) tensor([1, 1], device='cuda:0')\n",
      "tensor([False, False], device='cuda:0')\n",
      "tensor([[-0.1556,  0.0293,  0.0783, -0.1258,  0.1074, -0.0619,  0.0322,  0.0994,\n",
      "         -0.1469, -0.1915],\n",
      "        [-0.1024,  0.0019,  0.1228, -0.0972,  0.0768, -0.0446,  0.0355,  0.0413,\n",
      "         -0.1128, -0.1799]], device='cuda:0', grad_fn=<AddmmBackward0>) tensor([9, 2], device='cuda:0')\n",
      "tensor([False,  True], device='cuda:0')\n"
     ]
    }
   ],
   "source": [
    "tdata = DataLoader(FontNumberDataset(4), batch_size=2, shuffle=True)\n",
    "\n",
    "for batch, (X, y) in enumerate(tdata):\n",
    "    X, y = X.to(device), y.to(device)\n",
    "\n",
    "    # Compute prediction error\n",
    "    pred = model(X)\n",
    "    print(pred, y)\n",
    "\n",
    "    print(pred.argmax(1) == y)\n"
   ]
  },
  {
   "cell_type": "code",
   "execution_count": null,
   "metadata": {},
   "outputs": [],
   "source": []
  },
  {
   "cell_type": "code",
   "execution_count": null,
   "metadata": {},
   "outputs": [],
   "source": []
  },
  {
   "cell_type": "code",
   "execution_count": null,
   "metadata": {},
   "outputs": [],
   "source": []
  }
 ],
 "metadata": {
  "kernelspec": {
   "display_name": "py39",
   "language": "python",
   "name": "python3"
  },
  "language_info": {
   "codemirror_mode": {
    "name": "ipython",
    "version": 3
   },
   "file_extension": ".py",
   "mimetype": "text/x-python",
   "name": "python",
   "nbconvert_exporter": "python",
   "pygments_lexer": "ipython3",
   "version": "3.9.15"
  },
  "orig_nbformat": 4,
  "vscode": {
   "interpreter": {
    "hash": "d4238c57844cc908b76449bc4ddf9899590ca8e7952f36c82afaad1c379a56db"
   }
  }
 },
 "nbformat": 4,
 "nbformat_minor": 2
}
