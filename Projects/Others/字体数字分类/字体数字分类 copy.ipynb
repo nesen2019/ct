{
 "cells": [
  {
   "cell_type": "code",
   "execution_count": null,
   "metadata": {},
   "outputs": [],
   "source": []
  },
  {
   "attachments": {},
   "cell_type": "markdown",
   "metadata": {},
   "source": [
    "# 字体数字分类"
   ]
  },
  {
   "attachments": {},
   "cell_type": "markdown",
   "metadata": {},
   "source": [
    "## 创建随机字体数字图片"
   ]
  },
  {
   "cell_type": "code",
   "execution_count": 58,
   "metadata": {},
   "outputs": [],
   "source": [
    "import cv2\n",
    "import numpy as np \n",
    "import matplotlib.pyplot as plt\n",
    "from PIL import Image, ImageFont, ImageDraw "
   ]
  },
  {
   "cell_type": "code",
   "execution_count": 59,
   "metadata": {},
   "outputs": [],
   "source": [
    "import torch "
   ]
  },
  {
   "cell_type": "code",
   "execution_count": 60,
   "metadata": {},
   "outputs": [
    {
     "data": {
      "image/png": "[encoded data removed]",
      "text/plain": [
       "<PIL.Image.Image image mode=RGB size=32x32 at 0x7FA91BD3CE80>"
      ]
     },
     "execution_count": 60,
     "metadata": {},
     "output_type": "execute_result"
    }
   ],
   "source": [
    "img = np.zeros((32,32,3), dtype=np.uint8)\n",
    "Image.fromarray(img)"
   ]
  },
  {
   "cell_type": "code",
   "execution_count": 61,
   "metadata": {},
   "outputs": [
    {
     "data": {
      "image/png": "[encoded data removed]",
      "text/plain": [
       "<PIL.Image.Image image mode=RGB size=28x28 at 0x7FA91BCAFDC0>"
      ]
     },
     "execution_count": 61,
     "metadata": {},
     "output_type": "execute_result"
    }
   ],
   "source": [
    "\n",
    "def get_img(text, nums=1, shape=(28,28,3)):\n",
    "    img = np.random.randint(0, int(255 * 0.92), shape, dtype=np.uint8)\n",
    "    # img = np.zeros(shape, dtype=np.uint8)\n",
    "    img = cv2.putText(img, f\"{text}\", (3, shape[1] - 3), cv2.FONT_HERSHEY_SCRIPT_SIMPLEX, 1, (255,255,255), 2, cv2.LINE_AA)\n",
    "    return img \n",
    "\n",
    "Image.fromarray(get_img(8))"
   ]
  },
  {
   "cell_type": "code",
   "execution_count": 78,
   "metadata": {},
   "outputs": [
    {
     "data": {
      "text/plain": [
       "True"
      ]
     },
     "execution_count": 78,
     "metadata": {},
     "output_type": "execute_result"
    }
   ],
   "source": [
    "# img = get_img(8)\n",
    "# cv2.imwrite(\"onnx.jpg\", img)\n"
   ]
  },
  {
   "attachments": {},
   "cell_type": "markdown",
   "metadata": {},
   "source": [
    "## 创建数据"
   ]
  },
  {
   "cell_type": "code",
   "execution_count": 62,
   "metadata": {},
   "outputs": [],
   "source": [
    "import random \n",
    "from torch.utils.data import Dataset \n",
    "from torch.utils.data import DataLoader\n"
   ]
  },
  {
   "cell_type": "code",
   "execution_count": 63,
   "metadata": {},
   "outputs": [],
   "source": [
    "class FontNumberDataset(Dataset):\n",
    "    def __init__(self, length=10000):\n",
    "        self.length = length\n",
    "    \n",
    "    def __len__(self):\n",
    "        return self.length \n",
    "    \n",
    "    def __getitem__(self, idx):\n",
    "        label = random.randint(0, 9)\n",
    "        img = get_img(label)\n",
    "        gray = cv2.cvtColor(img, cv2.COLOR_BGR2GRAY)\n",
    "        gray = torch.Tensor(gray)\n",
    "        # gray = gray.gray = gray.unsqueeze(0)\n",
    "        return gray, label\n"
   ]
  },
  {
   "cell_type": "code",
   "execution_count": 64,
   "metadata": {},
   "outputs": [],
   "source": [
    "\n",
    "train_dataloader = DataLoader(FontNumberDataset(), batch_size=64, shuffle=True)\n",
    "test_dataloader = DataLoader(FontNumberDataset(), batch_size=64, shuffle=True)"
   ]
  },
  {
   "cell_type": "code",
   "execution_count": 65,
   "metadata": {},
   "outputs": [
    {
     "name": "stdout",
     "output_type": "stream",
     "text": [
      "Feature batch shape: torch.Size([64, 28, 28])\n",
      "Labels batch shape: torch.Size([64])\n"
     ]
    },
    {
     "data": {
      "image/png": "[encoded data removed]",
      "text/plain": [
       "<Figure size 640x480 with 1 Axes>"
      ]
     },
     "metadata": {},
     "output_type": "display_data"
    },
    {
     "name": "stdout",
     "output_type": "stream",
     "text": [
      "Label: 9\n"
     ]
    }
   ],
   "source": [
    "train_features, train_labels = next(iter(train_dataloader))\n",
    "print(f\"Feature batch shape: {train_features.size()}\")\n",
    "print(f\"Labels batch shape: {train_labels.size()}\")\n",
    "img = train_features[0].squeeze()\n",
    "label = train_labels[0]\n",
    "plt.imshow(img, cmap=\"gray\")\n",
    "plt.show()\n",
    "print(f\"Label: {label}\")"
   ]
  },
  {
   "cell_type": "code",
   "execution_count": null,
   "metadata": {},
   "outputs": [],
   "source": []
  },
  {
   "attachments": {},
   "cell_type": "markdown",
   "metadata": {},
   "source": [
    "## 创建PyTorch模型"
   ]
  },
  {
   "cell_type": "code",
   "execution_count": 66,
   "metadata": {},
   "outputs": [],
   "source": [
    "import torch\n",
    "from torch import nn\n",
    "from torchvision.transforms import ToTensor"
   ]
  },
  {
   "cell_type": "code",
   "execution_count": 67,
   "metadata": {},
   "outputs": [
    {
     "name": "stdout",
     "output_type": "stream",
     "text": [
      "Using cuda device\n",
      "NeuralNetwork(\n",
      "  (flatten): Flatten(start_dim=1, end_dim=-1)\n",
      "  (linear_relu_stack): Sequential(\n",
      "    (0): Linear(in_features=784, out_features=512, bias=True)\n",
      "    (1): ReLU()\n",
      "    (2): Linear(in_features=512, out_features=512, bias=True)\n",
      "    (3): ReLU()\n",
      "    (4): Linear(in_features=512, out_features=10, bias=True)\n",
      "  )\n",
      ")\n"
     ]
    }
   ],
   "source": [
    "# Get cpu or gpu device for training.\n",
    "device = \"cuda\" if torch.cuda.is_available() else \"cpu\"\n",
    "print(f\"Using {device} device\")\n",
    "\n",
    "# Define model\n",
    "class NeuralNetwork(nn.Module):\n",
    "    def __init__(self):\n",
    "        super().__init__()\n",
    "        self.flatten = nn.Flatten()\n",
    "        self.linear_relu_stack = nn.Sequential(\n",
    "            nn.Linear(28*28, 512),\n",
    "            nn.ReLU(),\n",
    "            nn.Linear(512, 512),\n",
    "            nn.ReLU(),\n",
    "            nn.Linear(512, 10)\n",
    "        )\n",
    "\n",
    "    def forward(self, x):\n",
    "        x = self.flatten(x)\n",
    "        logits = self.linear_relu_stack(x)\n",
    "        return logits\n",
    "\n",
    "\n",
    "model = NeuralNetwork().to(device)\n",
    "print(model)"
   ]
  },
  {
   "attachments": {},
   "cell_type": "markdown",
   "metadata": {},
   "source": [
    "## 创建优化器"
   ]
  },
  {
   "cell_type": "code",
   "execution_count": 68,
   "metadata": {},
   "outputs": [],
   "source": [
    "loss_fn = nn.CrossEntropyLoss()\n",
    "optimizer = torch.optim.SGD(model.parameters(), lr=1e-3)"
   ]
  },
  {
   "attachments": {},
   "cell_type": "markdown",
   "metadata": {},
   "source": [
    "## 训练模型"
   ]
  },
  {
   "cell_type": "code",
   "execution_count": 69,
   "metadata": {},
   "outputs": [],
   "source": [
    "def train(dataloader, model, loss_fn, optimizer):\n",
    "    size = len(dataloader.dataset)\n",
    "    model.train()\n",
    "    for batch, (X, y) in enumerate(dataloader):\n",
    "        X, y = X.to(device), y.to(device)\n",
    "\n",
    "        # Compute prediction error\n",
    "        pred = model(X)\n",
    "        loss = loss_fn(pred, y)\n",
    "\n",
    "        # Backpropagation\n",
    "        optimizer.zero_grad()\n",
    "        loss.backward()\n",
    "        optimizer.step()\n",
    "\n",
    "        if batch % 100 == 0:\n",
    "            loss, current = loss.item(), (batch + 1) * len(X)\n",
    "            print(f\"loss: {loss:>7f}  [{current:>5d}/{size:>5d}]\")"
   ]
  },
  {
   "cell_type": "code",
   "execution_count": 70,
   "metadata": {},
   "outputs": [],
   "source": [
    "def test(dataloader, model, loss_fn):\n",
    "    size = len(dataloader.dataset)\n",
    "    num_batches = len(dataloader)\n",
    "    model.eval()\n",
    "    test_loss, correct = 0, 0\n",
    "    with torch.no_grad():\n",
    "        for X, y in dataloader:\n",
    "            X, y = X.to(device), y.to(device)\n",
    "            pred = model(X)\n",
    "            test_loss += loss_fn(pred, y).item()\n",
    "            correct += (pred.argmax(1) == y).type(torch.float).sum().item()\n",
    "    test_loss /= num_batches\n",
    "    correct /= size\n",
    "    print(f\"Test Error: Accuracy: {(100*correct):>0.1f}%, Avg loss: {test_loss:>8f}\")"
   ]
  },
  {
   "cell_type": "code",
   "execution_count": 71,
   "metadata": {},
   "outputs": [
    {
     "name": "stdout",
     "output_type": "stream",
     "text": [
      "Epoch 1\n",
      "-------------------------------\n",
      "loss: 22.389294  [   64/10000]\n",
      "loss: 0.014086  [ 6464/10000]\n",
      "Test Error: Accuracy: 100.0%, Avg loss: 0.008982\n",
      "Epoch 2\n",
      "-------------------------------\n",
      "loss: 0.006140  [   64/10000]\n",
      "loss: 0.013978  [ 6464/10000]\n",
      "Test Error: Accuracy: 100.0%, Avg loss: 0.003059\n",
      "Epoch 3\n",
      "-------------------------------\n",
      "loss: 0.002013  [   64/10000]\n",
      "loss: 0.001480  [ 6464/10000]\n",
      "Test Error: Accuracy: 100.0%, Avg loss: 0.001866\n",
      "Epoch 4\n",
      "-------------------------------\n",
      "loss: 0.001109  [   64/10000]\n",
      "loss: 0.002593  [ 6464/10000]\n",
      "Test Error: Accuracy: 100.0%, Avg loss: 0.001402\n",
      "Epoch 5\n",
      "-------------------------------\n",
      "loss: 0.004573  [   64/10000]\n",
      "loss: 0.000733  [ 6464/10000]\n",
      "Test Error: Accuracy: 100.0%, Avg loss: 0.001098\n",
      "Epoch 6\n",
      "-------------------------------\n",
      "loss: 0.000617  [   64/10000]\n",
      "loss: 0.004546  [ 6464/10000]\n",
      "Test Error: Accuracy: 100.0%, Avg loss: 0.000944\n",
      "Epoch 7\n",
      "-------------------------------\n",
      "loss: 0.000500  [   64/10000]\n",
      "loss: 0.001331  [ 6464/10000]\n",
      "Test Error: Accuracy: 100.0%, Avg loss: 0.000992\n",
      "Epoch 8\n",
      "-------------------------------\n",
      "loss: 0.000440  [   64/10000]\n",
      "loss: 0.000381  [ 6464/10000]\n",
      "Test Error: Accuracy: 100.0%, Avg loss: 0.000593\n",
      "Epoch 9\n",
      "-------------------------------\n",
      "loss: 0.000544  [   64/10000]\n",
      "loss: 0.000356  [ 6464/10000]\n",
      "Test Error: Accuracy: 100.0%, Avg loss: 0.000677\n",
      "Epoch 10\n",
      "-------------------------------\n",
      "loss: 0.000727  [   64/10000]\n",
      "loss: 0.000189  [ 6464/10000]\n",
      "Test Error: Accuracy: 100.0%, Avg loss: 0.000453\n",
      "Epoch 11\n",
      "-------------------------------\n",
      "loss: 0.000267  [   64/10000]\n",
      "loss: 0.000282  [ 6464/10000]\n",
      "Test Error: Accuracy: 100.0%, Avg loss: 0.000427\n",
      "Epoch 12\n",
      "-------------------------------\n",
      "loss: 0.000585  [   64/10000]\n",
      "loss: 0.000483  [ 6464/10000]\n",
      "Test Error: Accuracy: 100.0%, Avg loss: 0.000645\n",
      "Epoch 13\n",
      "-------------------------------\n",
      "loss: 0.000197  [   64/10000]\n",
      "loss: 0.000337  [ 6464/10000]\n",
      "Test Error: Accuracy: 100.0%, Avg loss: 0.000391\n",
      "Epoch 14\n",
      "-------------------------------\n",
      "loss: 0.000098  [   64/10000]\n",
      "loss: 0.000204  [ 6464/10000]\n",
      "Test Error: Accuracy: 100.0%, Avg loss: 0.000428\n",
      "Epoch 15\n",
      "-------------------------------\n",
      "loss: 0.000147  [   64/10000]\n",
      "loss: 0.000174  [ 6464/10000]\n",
      "Test Error: Accuracy: 100.0%, Avg loss: 0.000396\n",
      "Done!\n"
     ]
    }
   ],
   "source": [
    "epochs = 5\n",
    "for t in range(epochs):\n",
    "    print(f\"Epoch {t+1}\\n-------------------------------\")\n",
    "    train(train_dataloader, model, loss_fn, optimizer)\n",
    "    test(test_dataloader, model, loss_fn)\n",
    "print(\"Done!\")"
   ]
  },
  {
   "cell_type": "code",
   "execution_count": null,
   "metadata": {},
   "outputs": [],
   "source": []
  },
  {
   "cell_type": "code",
   "execution_count": null,
   "metadata": {},
   "outputs": [],
   "source": []
  },
  {
   "attachments": {},
   "cell_type": "markdown",
   "metadata": {},
   "source": [
    "## 保存模型"
   ]
  },
  {
   "attachments": {},
   "cell_type": "markdown",
   "metadata": {},
   "source": [
    "## Saving Models"
   ]
  },
  {
   "cell_type": "code",
   "execution_count": 72,
   "metadata": {},
   "outputs": [
    {
     "name": "stdout",
     "output_type": "stream",
     "text": [
      "Saved PyTorch Model State to model.pth\n"
     ]
    }
   ],
   "source": [
    "torch.save(model.state_dict(), \"model.pth\")\n",
    "print(\"Saved PyTorch Model State to model.pth\")"
   ]
  },
  {
   "attachments": {},
   "cell_type": "markdown",
   "metadata": {},
   "source": [
    "## Loading Models"
   ]
  },
  {
   "cell_type": "code",
   "execution_count": 73,
   "metadata": {},
   "outputs": [
    {
     "data": {
      "text/plain": [
       "<All keys matched successfully>"
      ]
     },
     "execution_count": 73,
     "metadata": {},
     "output_type": "execute_result"
    }
   ],
   "source": [
    "model = NeuralNetwork()\n",
    "model.load_state_dict(torch.load(\"model.pth\"))"
   ]
  },
  {
   "cell_type": "code",
   "execution_count": null,
   "metadata": {},
   "outputs": [],
   "source": []
  },
  {
   "attachments": {},
   "cell_type": "markdown",
   "metadata": {},
   "source": [
    "## 模型评价"
   ]
  },
  {
   "cell_type": "markdown",
   "metadata": {},
   "source": []
  },
  {
   "cell_type": "code",
   "execution_count": 74,
   "metadata": {},
   "outputs": [
    {
     "name": "stdout",
     "output_type": "stream",
     "text": [
      "torch.Size([64, 28, 28]) torch.float32 cuda:0\n"
     ]
    }
   ],
   "source": [
    "for X, y in test_dataloader:\n",
    "    X, y = X.to(device), y.to(device)\n",
    "    print(X.shape, X.dtype, X.device)\n",
    "    model.to(device)\n",
    "    model(X)\n",
    "    break "
   ]
  },
  {
   "cell_type": "code",
   "execution_count": 75,
   "metadata": {},
   "outputs": [
    {
     "name": "stdout",
     "output_type": "stream",
     "text": [
      "torch.Size([1, 1, 28, 28]) torch.float32 cuda:0\n",
      "tensor([[-4.6796, -1.2678, 10.3736, -4.2401, -4.0412,  2.1259, -1.9845, -0.4374,\n",
      "         -5.7449,  0.3876]], device='cuda:0')\n",
      "tensor([0, 0, 0, 0, 0, 0, 0, 0, 0, 0], device='cuda:0')\n"
     ]
    }
   ],
   "source": [
    "img = get_img(2)\n",
    "gray = cv2.cvtColor(img, cv2.COLOR_BGR2GRAY)\n",
    "\n",
    "x = torch.from_numpy(np.array(gray, dtype=np.float32))\n",
    "x = x.unsqueeze(0).unsqueeze(0)\n",
    "\n",
    "model.eval()\n",
    "\n",
    "\n",
    "x = x.to(device)\n",
    "model = model.to(device)\n",
    "print(x.shape, x.dtype, x.device)\n",
    "\n",
    "with torch.no_grad():\n",
    "    pred = model(x)\n",
    "    print(pred)\n",
    "    print(pred.argmax(0))\n",
    "\n",
    "# with torch.no_grad():\n",
    "#     pred = model(x)\n",
    "#     predicted, actual = classes[pred[0].argmax(0)], classes[y]\n",
    "#     print(f'Predicted: \"{predicted}\", Actual: \"{actual}\"')"
   ]
  },
  {
   "cell_type": "code",
   "execution_count": 76,
   "metadata": {},
   "outputs": [
    {
     "name": "stdout",
     "output_type": "stream",
     "text": [
      "tensor([[-2.5519e+00, -3.1206e+00,  2.3508e+00, -8.4063e-02, -9.9411e+00,\n",
      "          1.2380e+01, -1.6123e+00, -6.1617e+00, -3.3131e+00, -1.5956e+00],\n",
      "        [-6.4868e-01, -2.2897e+00, -2.8114e+00,  1.0261e+00, -6.0435e+00,\n",
      "          1.2950e+01,  8.5946e-01, -9.7436e+00,  2.2286e+00, -4.4550e-01],\n",
      "        [-3.2189e+00, -2.8422e+00,  1.1369e+01, -4.1885e+00, -6.0343e+00,\n",
      "          8.5445e-01, -3.0738e+00, -1.8586e+00, -1.8580e+00, -3.2832e+00],\n",
      "        [-2.6739e-01, -8.3912e-01,  1.5013e-03, -7.6809e+00, -6.3550e+00,\n",
      "          2.8927e+00, -2.8425e+00, -4.3825e+00, -3.4990e+00,  1.0039e+01]],\n",
      "       device='cuda:0', grad_fn=<AddmmBackward0>) tensor([5, 5, 2, 9], device='cuda:0')\n",
      "tensor([True, True, True, True], device='cuda:0')\n"
     ]
    }
   ],
   "source": [
    "tdata = DataLoader(FontNumberDataset(4), batch_size=4, shuffle=True)\n",
    "\n",
    "for batch, (X, y) in enumerate(tdata):\n",
    "    X, y = X.to(device), y.to(device)\n",
    "\n",
    "    # Compute prediction error\n",
    "    pred = model(X)\n",
    "    print(pred, y)\n",
    "\n",
    "    print(pred.argmax(1) == y)\n"
   ]
  },
  {
   "cell_type": "code",
   "execution_count": null,
   "metadata": {},
   "outputs": [],
   "source": []
  },
  {
   "cell_type": "code",
   "execution_count": null,
   "metadata": {},
   "outputs": [],
   "source": []
  },
  {
   "cell_type": "code",
   "execution_count": null,
   "metadata": {},
   "outputs": [],
   "source": []
  }
 ],
 "metadata": {
  "kernelspec": {
   "display_name": "py39",
   "language": "python",
   "name": "python3"
  },
  "language_info": {
   "codemirror_mode": {
    "name": "ipython",
    "version": 3
   },
   "file_extension": ".py",
   "mimetype": "text/x-python",
   "name": "python",
   "nbconvert_exporter": "python",
   "pygments_lexer": "ipython3",
   "version": "3.9.15"
  },
  "orig_nbformat": 4,
  "vscode": {
   "interpreter": {
    "hash": "d4238c57844cc908b76449bc4ddf9899590ca8e7952f36c82afaad1c379a56db"
   }
  }
 },
 "nbformat": 4,
 "nbformat_minor": 2
}
